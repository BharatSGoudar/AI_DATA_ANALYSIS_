{
 "cells": [
  {
   "cell_type": "markdown",
   "metadata": {},
   "source": [
    "### Task 1: Handling Missing Values - Simple Imputation\n",
    "**Description**: Given a dataset with missing values, impute the missing values using the mean for numerical features and the mode for categorical features."
   ]
  },
  {
   "cell_type": "code",
   "execution_count": 1,
   "metadata": {},
   "outputs": [
    {
     "name": "stdout",
     "output_type": "stream",
     "text": [
      "Original DataFrame:\n",
      "    age  gender   income\n",
      "0  25.0    male  50000.0\n",
      "1  30.0  female  60000.0\n",
      "2   NaN  female  55000.0\n",
      "3  22.0    None      NaN\n",
      "4  28.0    male  58000.0\n",
      "\n",
      "DataFrame after Simple Imputation:\n",
      "     age  gender   income\n",
      "0  25.00    male  50000.0\n",
      "1  30.00  female  60000.0\n",
      "2  26.25  female  55000.0\n",
      "3  22.00    None  55750.0\n",
      "4  28.00    male  58000.0\n"
     ]
    }
   ],
   "source": [
    "import pandas as pd\n",
    "from sklearn.impute import SimpleImputer\n",
    "\n",
    "# Sample dataset\n",
    "data = {\n",
    "    'age': [25, 30, None, 22, 28],\n",
    "    'gender': ['male', 'female', 'female', None, 'male'],\n",
    "    'income': [50000, 60000, 55000, None, 58000]\n",
    "}\n",
    "\n",
    "# Create a DataFrame\n",
    "df = pd.DataFrame(data)\n",
    "\n",
    "# Display the original DataFrame\n",
    "print(\"Original DataFrame:\")\n",
    "print(df)\n",
    "\n",
    "# Impute missing values\n",
    "# For numerical features, use mean imputation\n",
    "num_imputer = SimpleImputer(strategy='mean')\n",
    "df['age'] = num_imputer.fit_transform(df[['age']])\n",
    "\n",
    "df['income'] = num_imputer.fit_transform(df[['income']])\n",
    "\n",
    "# For categorical features, use mode imputation\n",
    "cat_imputer = SimpleImputer(strategy='most_frequent')\n",
    "df['gender'] = cat_imputer.fit_transform(df[['gender']]).ravel()  # Use ravel() to convert to 1D\n",
    "\n",
    "# Display the DataFrame after imputation\n",
    "print(\"\\nDataFrame after Simple Imputation:\")\n",
    "print(df)\n"
   ]
  },
  {
   "cell_type": "markdown",
   "metadata": {},
   "source": [
    "### Task 2: Feature Scaling - Min-Max Normalization\n",
    "**Description**: Normalize a numerical feature using Min-Max scaling to a range [0, 1]."
   ]
  },
  {
   "cell_type": "code",
   "execution_count": 2,
   "metadata": {},
   "outputs": [
    {
     "name": "stdout",
     "output_type": "stream",
     "text": [
      "Original Series:\n",
      "0    10\n",
      "1    20\n",
      "2    30\n",
      "3    40\n",
      "4    50\n",
      "dtype: int64\n",
      "\n",
      "Normalized Series (Min-Max):\n",
      "0    0.00\n",
      "1    0.25\n",
      "2    0.50\n",
      "3    0.75\n",
      "4    1.00\n",
      "dtype: float64\n",
      "\n",
      "Original Array:\n",
      "[ 5 10 15 20]\n",
      "\n",
      "Normalized Array (Min-Max):\n",
      "[0.         0.33333333 0.66666667 1.        ]\n"
     ]
    }
   ],
   "source": [
    "# write your code from here\n",
    "import numpy as np\n",
    "import pandas as pd\n",
    "\n",
    "def min_max_normalize(data):\n",
    "  \"\"\"\n",
    "  Normalizes a numerical feature using Min-Max scaling to the range [0, 1].\n",
    "\n",
    "  Args:\n",
    "    data (pd.Series or np.array): A pandas Series or a NumPy array\n",
    "                                     containing the numerical feature data.\n",
    "\n",
    "  Returns:\n",
    "    pd.Series or np.array: A pandas Series or a NumPy array containing the\n",
    "                             normalized feature data in the range [0, 1].\n",
    "  \"\"\"\n",
    "  min_val = np.min(data)\n",
    "  max_val = np.max(data)\n",
    "\n",
    "  if min_val == max_val:\n",
    "    print(\"Warning: Minimum and maximum values are the same. Returning original data.\")\n",
    "    return data\n",
    "  else:\n",
    "    normalized_data = (data - min_val) / (max_val - min_val)\n",
    "    return normalized_data\n",
    "\n",
    "# Example usage with a Pandas Series\n",
    "example_series = pd.Series([10, 20, 30, 40, 50])\n",
    "normalized_series = min_max_normalize(example_series)\n",
    "print(\"Original Series:\")\n",
    "print(example_series)\n",
    "print(\"\\nNormalized Series (Min-Max):\")\n",
    "print(normalized_series)\n",
    "\n",
    "# Example usage with a NumPy array\n",
    "example_array = np.array([5, 10, 15, 20])\n",
    "normalized_array = min_max_normalize(example_array)\n",
    "print(\"\\nOriginal Array:\")\n",
    "print(example_array)\n",
    "print(\"\\nNormalized Array (Min-Max):\")\n",
    "print(normalized_array)"
   ]
  },
  {
   "cell_type": "markdown",
   "metadata": {},
   "source": [
    "### Task 3: Handling Missing Values - Drop Missing Values\n",
    "**Description**: Remove rows with missing values from a dataset."
   ]
  },
  {
   "cell_type": "code",
   "execution_count": 3,
   "metadata": {},
   "outputs": [
    {
     "name": "stdout",
     "output_type": "stream",
     "text": [
      "Original DataFrame:\n",
      "   col1 col2   col3\n",
      "0   1.0    a   True\n",
      "1   2.0  NaN  False\n",
      "2   NaN    c   True\n",
      "3   4.0    d    NaN\n",
      "4   5.0    e  False\n",
      "\n",
      "DataFrame after dropping rows with missing values:\n",
      "   col1 col2   col3\n",
      "0   1.0    a   True\n",
      "4   5.0    e  False\n"
     ]
    }
   ],
   "source": [
    "# write your code from here\n",
    "import pandas as pd\n",
    "\n",
    "def drop_missing_rows(df):\n",
    "  \"\"\"\n",
    "  Removes rows with any missing values from a pandas DataFrame.\n",
    "\n",
    "  Args:\n",
    "    df (pd.DataFrame): The input pandas DataFrame.\n",
    "\n",
    "  Returns:\n",
    "    pd.DataFrame: A new pandas DataFrame with rows containing missing\n",
    "                  values removed.\n",
    "  \"\"\"\n",
    "  df_cleaned = df.dropna()\n",
    "  return df_cleaned\n",
    "\n",
    "# Example Usage:\n",
    "# Create a sample DataFrame with missing values\n",
    "data = {'col1': [1, 2, np.nan, 4, 5],\n",
    "        'col2': ['a', np.nan, 'c', 'd', 'e'],\n",
    "        'col3': [True, False, True, np.nan, False]}\n",
    "df = pd.DataFrame(data)\n",
    "\n",
    "print(\"Original DataFrame:\")\n",
    "print(df)\n",
    "\n",
    "df_without_missing = drop_missing_rows(df)\n",
    "print(\"\\nDataFrame after dropping rows with missing values:\")\n",
    "print(df_without_missing)"
   ]
  },
  {
   "cell_type": "markdown",
   "metadata": {},
   "source": [
    "### Task 4: Feature Scaling - Standardization\n",
    "**Description**: Standardize a numerical feature to have zero mean and unit variance."
   ]
  },
  {
   "cell_type": "code",
   "execution_count": 4,
   "metadata": {},
   "outputs": [
    {
     "name": "stdout",
     "output_type": "stream",
     "text": [
      "Original DataFrame:\n",
      "   feature\n",
      "0       10\n",
      "1       20\n",
      "2       30\n",
      "3       40\n",
      "4       50\n",
      "\n",
      "DataFrame after Standardization:\n",
      "   feature  standardized_feature\n",
      "0       10             -1.414214\n",
      "1       20             -0.707107\n",
      "2       30              0.000000\n",
      "3       40              0.707107\n",
      "4       50              1.414214\n"
     ]
    }
   ],
   "source": [
    "# write your code from here\n",
    "import pandas as pd\n",
    "from sklearn.preprocessing import StandardScaler\n",
    "\n",
    "# Sample dataset\n",
    "data = {\n",
    "    'feature': [10, 20, 30, 40, 50]\n",
    "}\n",
    "\n",
    "# Create a DataFrame\n",
    "df = pd.DataFrame(data)\n",
    "\n",
    "# Display the original DataFrame\n",
    "print(\"Original DataFrame:\")\n",
    "print(df)\n",
    "\n",
    "# Initialize the StandardScaler\n",
    "scaler = StandardScaler()\n",
    "\n",
    "# Fit the scaler to the feature and transform it\n",
    "df['standardized_feature'] = scaler.fit_transform(df[['feature']])\n",
    "\n",
    "# Display the DataFrame after standardization\n",
    "print(\"\\nDataFrame after Standardization:\")\n",
    "print(df)\n"
   ]
  }
 ],
 "metadata": {
  "kernelspec": {
   "display_name": "Python 3",
   "language": "python",
   "name": "python3"
  },
  "language_info": {
   "codemirror_mode": {
    "name": "ipython",
    "version": 3
   },
   "file_extension": ".py",
   "mimetype": "text/x-python",
   "name": "python",
   "nbconvert_exporter": "python",
   "pygments_lexer": "ipython3",
   "version": "3.10.12"
  }
 },
 "nbformat": 4,
 "nbformat_minor": 2
}
