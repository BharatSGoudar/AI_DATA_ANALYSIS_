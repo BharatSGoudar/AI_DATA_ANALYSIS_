{
 "cells": [
  {
   "cell_type": "markdown",
   "metadata": {},
   "source": [
    "### Feature Selection - Variance Threshold\n",
    "**Description**: Remove features with low variance."
   ]
  },
  {
   "cell_type": "code",
   "execution_count": 1,
   "metadata": {},
   "outputs": [
    {
     "name": "stdout",
     "output_type": "stream",
     "text": [
      "Original DataFrame:\n",
      "   feature1  feature2  feature3  feature4  target\n",
      "0         1         1        10         0       0\n",
      "1         1         2        20         0       1\n",
      "2         1         1        30         0       0\n",
      "3         1         2        40         0       1\n",
      "4         1         1        50         1       0\n",
      "5         1         2        60         1       1\n",
      "6         1         1        70         1       0\n",
      "\n",
      "DataFrame after removing low variance features (threshold=0.1):\n",
      "   feature2  feature3  feature4  target\n",
      "0         1        10         0       0\n",
      "1         2        20         0       1\n",
      "2         1        30         0       0\n",
      "3         2        40         0       1\n",
      "4         1        50         1       0\n",
      "5         2        60         1       1\n",
      "6         1        70         1       0\n",
      "\n",
      "DataFrame after removing low variance features (threshold=0.0):\n",
      "   feature2  feature3  feature4  target\n",
      "0         1        10         0       0\n",
      "1         2        20         0       1\n",
      "2         1        30         0       0\n",
      "3         2        40         0       1\n",
      "4         1        50         1       0\n",
      "5         2        60         1       1\n",
      "6         1        70         1       0\n"
     ]
    }
   ],
   "source": [
    "\n",
    "import pandas as pd\n",
    "import numpy as np\n",
    "from sklearn.feature_selection import VarianceThreshold\n",
    "def feature_selection_variance_threshold(df, threshold=0.1):\n",
    "    original_columns = df.columns\n",
    "    selector = VarianceThreshold(threshold=threshold)\n",
    "    selector.fit(df)\n",
    "    selected_features_indices = selector.get_support(indices=True)\n",
    "    selected_features = [original_columns[i] for i in selected_features_indices]\n",
    "    return df[selected_features]\n",
    "if __name__ == '__main__':\n",
    "    data = {'feature1': [1, 1, 1, 1, 1, 1, 1],\n",
    "            'feature2': [1, 2, 1, 2, 1, 2, 1],\n",
    "            'feature3': [10, 20, 30, 40, 50, 60, 70],\n",
    "            'feature4': [0, 0, 0, 0, 1, 1, 1],\n",
    "            'target': [0, 1, 0, 1, 0, 1, 0]}\n",
    "    df = pd.DataFrame(data)\n",
    "    print(\"Original DataFrame:\")\n",
    "    print(df)\n",
    "    df_selected = feature_selection_variance_threshold(df.copy(), threshold=0.1)\n",
    "    print(\"\\nDataFrame after removing low variance features (threshold=0.1):\")\n",
    "    print(df_selected)\n",
    "    df_selected_2 = feature_selection_variance_threshold(df.copy(), threshold=0.0)\n",
    "    print(\"\\nDataFrame after removing low variance features (threshold=0.0):\")\n",
    "    print(df_selected_2)"
   ]
  }
 ],
 "metadata": {
  "kernelspec": {
   "display_name": "Python 3",
   "language": "python",
   "name": "python3"
  },
  "language_info": {
   "codemirror_mode": {
    "name": "ipython",
    "version": 3
   },
   "file_extension": ".py",
   "mimetype": "text/x-python",
   "name": "python",
   "nbconvert_exporter": "python",
   "pygments_lexer": "ipython3",
   "version": "3.10.12"
  }
 },
 "nbformat": 4,
 "nbformat_minor": 2
}
