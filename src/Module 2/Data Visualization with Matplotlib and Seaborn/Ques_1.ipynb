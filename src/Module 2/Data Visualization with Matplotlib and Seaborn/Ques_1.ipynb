{
 "cells": [
  {
   "cell_type": "code",
   "execution_count": null,
   "metadata": {},
   "outputs": [],
   "source": [
    "import matplotlib.pyplot as plt\n",
    "\n",
    "# Sample input data\n",
    "products = ['A', 'B', 'C', 'D', 'E']\n",
    "sales = [23, 75, 57, 90, 65]\n",
    "\n",
    "# Data validation\n",
    "if not isinstance(products, list) or not isinstance(sales, list):\n",
    "    raise TypeError(\"Both 'products' and 'sales' should be lists.\")\n",
    "if len(products) != len(sales):\n",
    "    raise ValueError(\"Length of 'products' and 'sales' lists must be equal.\")\n",
    "if not all(isinstance(p, str) for p in products):\n",
    "    raise ValueError(\"All product names must be strings.\")\n",
    "if not all(isinstance(s, (int, float)) for s in sales):\n",
    "    raise ValueError(\"All sales values must be numeric.\")\n",
    "\n",
    "# Create figure and axis\n",
    "fig, ax = plt.subplots(figsize=(8, 5))\n",
    "bars = ax.bar(products, sales, color='skyblue', edgecolor='black')\n",
    "\n",
    "# Plot title and labels\n",
    "ax.set_title('Product Sales (in thousands)', fontsize=14, weight='bold')\n",
    "ax.set_xlabel('Products', fontsize=12)\n",
    "ax.set_ylabel('Sales', fontsize=12)\n",
    "ax.grid(axis='y', linestyle='--', alpha=0.7)\n",
    "\n",
    "# Batch annotation logic (minimal performance impact here, but structured for clarity)\n",
    "annotations = [\n",
    "    ax.annotate(f'{bar.get_height()}',\n",
    "                xy=(bar.get_x() + bar.get_width() / 2, bar.get_height()),\n",
    "                xytext=(0, 3),\n",
    "                textcoords=\"offset points\",\n",
    "                ha='center', va='bottom', fontsize=10)\n",
    "    for bar in bars\n",
    "]\n",
    "\n",
    "plt.tight_layout()\n",
    "plt.show()\n"
   ]
  }
 ],
 "metadata": {
  "kernelspec": {
   "display_name": "Python 3",
   "language": "python",
   "name": "python3"
  },
  "language_info": {
   "codemirror_mode": {
    "name": "ipython",
    "version": 3
   },
   "file_extension": ".py",
   "mimetype": "text/x-python",
   "name": "python",
   "nbconvert_exporter": "python",
   "pygments_lexer": "ipython3",
   "version": "3.10.12"
  }
 },
 "nbformat": 4,
 "nbformat_minor": 2
}
