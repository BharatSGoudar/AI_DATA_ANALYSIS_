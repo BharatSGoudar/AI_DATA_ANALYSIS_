{
 "cells": [
  {
   "cell_type": "code",
   "execution_count": null,
   "metadata": {},
   "outputs": [],
   "source": [
    "import matplotlib.pyplot as plt\n",
    "\n",
    "# Sample input data\n",
    "products = ['A', 'B', 'C', 'D', 'E']\n",
    "sales = [23, 75, 57, 90, 65]\n",
    "\n",
    "# Error handling and validation\n",
    "if not isinstance(products, list) or not isinstance(sales, list):\n",
    "    raise TypeError(\"Both 'products' and 'sales' should be lists.\")\n",
    "if len(products) != len(sales):\n",
    "    raise ValueError(\"Length of 'products' and 'sales' lists must be equal.\")\n",
    "if not all(isinstance(i, (int, float)) for i in sales):\n",
    "    raise ValueError(\"All sales values must be numeric.\")\n",
    "\n",
    "# Create the figure and axes\n",
    "fig, ax = plt.subplots(figsize=(8, 5))\n",
    "bars = ax.bar(products, sales, color='skyblue', edgecolor='black')\n",
    "\n",
    "# Add labels and title\n",
    "ax.set_title('Product Sales (in thousands)', fontsize=14, weight='bold')\n",
    "ax.set_xlabel('Products', fontsize=12)\n",
    "ax.set_ylabel('Sales', fontsize=12)\n",
    "ax.grid(axis='y', linestyle='--', alpha=0.7)\n",
    "\n",
    "# Annotate bars with values\n",
    "for bar in bars:\n",
    "    height = bar.get_height()\n",
    "    ax.annotate(f'{height}',\n",
    "                xy=(bar.get_x() + bar.get_width() / 2, height),\n",
    "                xytext=(0, 3),\n",
    "                textcoords=\"offset points\",\n",
    "                ha='center', va='bottom', fontsize=10)\n",
    "\n",
    "plt.tight_layout()\n",
    "plt.show()\n"
   ]
  }
 ],
 "metadata": {
  "kernelspec": {
   "display_name": "Python 3",
   "language": "python",
   "name": "python3"
  },
  "language_info": {
   "codemirror_mode": {
    "name": "ipython",
    "version": 3
   },
   "file_extension": ".py",
   "mimetype": "text/x-python",
   "name": "python",
   "nbconvert_exporter": "python",
   "pygments_lexer": "ipython3",
   "version": "3.10.12"
  }
 },
 "nbformat": 4,
 "nbformat_minor": 2
}
