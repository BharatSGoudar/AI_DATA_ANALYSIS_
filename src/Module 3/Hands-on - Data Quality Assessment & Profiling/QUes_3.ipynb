{
 "cells": [
  {
   "cell_type": "code",
   "execution_count": null,
   "metadata": {},
   "outputs": [
    {
     "name": "stdout",
     "output_type": "stream",
     "text": [
      "Missing values in the dataset:\n",
      "sepal_length    0\n",
      "sepal_width     0\n",
      "petal_length    0\n",
      "petal_width     0\n",
      "species         0\n",
      "dtype: int64\n",
      "Inconsistent entries in 'Gender' column: \n",
      "0         M\n",
      "1      Male\n",
      "2      male\n",
      "3         F\n",
      "4    Female\n",
      "5    female\n",
      "dtype: object\n",
      "Cleaned entries in 'Gender' column: \n",
      "0      Male\n",
      "1      Male\n",
      "2      Male\n",
      "3    Female\n",
      "4    Female\n",
      "5    Female\n",
      "dtype: object\n",
      "\n",
      "Iris Dataset Summary:\n",
      "        sepal_length  sepal_width  petal_length  petal_width\n",
      "count    150.000000   150.000000    150.000000   150.000000\n",
      "mean       5.843333     3.057333      3.758000     1.199333\n",
      "std        0.828066     0.435866      1.765298     0.762238\n",
      "min        4.300000     2.000000      1.000000     0.100000\n",
      "25%        5.100000     2.800000      1.600000     0.300000\n",
      "50%        5.800000     3.000000      4.350000     1.300000\n",
      "75%        6.400000     3.300000      5.100000     1.800000\n",
      "max        7.900000     4.400000      6.900000     2.500000\n"
     ]
    }
   ],
   "source": [
    "import pandas as pd\n",
    "import seaborn as sns\n",
    "df = sns.load_dataset('iris')\n",
    "missing_values = df.isnull().sum()\n",
    "print(f\"Missing values in the dataset:\\n{missing_values}\")\n",
    "gender_column = ['M', 'Male', 'male', 'F', 'Female', 'female']\n",
    "gender_data = pd.Series(gender_column)  # Sample gender column data\n",
    "gender_data_cleaned = gender_data.replace({'M': 'Male', 'male': 'Male', 'F': 'Female', 'female': 'Female'})\n",
    "print(f\"Inconsistent entries in 'Gender' column: \\n{gender_data}\")\n",
    "print(f\"Cleaned entries in 'Gender' column: \\n{gender_data_cleaned}\")\n",
    "iris_summary = df.describe()\n",
    "print(\"\\nIris Dataset Summary:\\n\", iris_summary)\n"
   ]
  }
 ],
 "metadata": {
  "kernelspec": {
   "display_name": "Python 3",
   "language": "python",
   "name": "python3"
  },
  "language_info": {
   "codemirror_mode": {
    "name": "ipython",
    "version": 3
   },
   "file_extension": ".py",
   "mimetype": "text/x-python",
   "name": "python",
   "nbconvert_exporter": "python",
   "pygments_lexer": "ipython3",
   "version": "3.10.12"
  }
 },
 "nbformat": 4,
 "nbformat_minor": 2
}
