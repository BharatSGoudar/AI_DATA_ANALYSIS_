{
 "cells": [
  {
   "cell_type": "code",
   "execution_count": 1,
   "metadata": {},
   "outputs": [
    {
     "ename": "AttributeError",
     "evalue": "module 'great_expectations.data_context' has no attribute 'DataContext'",
     "output_type": "error",
     "traceback": [
      "\u001b[0;31m---------------------------------------------------------------------------\u001b[0m",
      "\u001b[0;31mAttributeError\u001b[0m                            Traceback (most recent call last)",
      "Cell \u001b[0;32mIn[1], line 11\u001b[0m\n\u001b[1;32m      5\u001b[0m df \u001b[38;5;241m=\u001b[39m pd\u001b[38;5;241m.\u001b[39mDataFrame({\n\u001b[1;32m      6\u001b[0m     \u001b[38;5;124m\"\u001b[39m\u001b[38;5;124mage\u001b[39m\u001b[38;5;124m\"\u001b[39m: [\u001b[38;5;241m25\u001b[39m, \u001b[38;5;241m30\u001b[39m, \u001b[38;5;28;01mNone\u001b[39;00m, \u001b[38;5;241m40\u001b[39m, \u001b[38;5;241m50\u001b[39m],\n\u001b[1;32m      7\u001b[0m     \u001b[38;5;124m\"\u001b[39m\u001b[38;5;124msalary\u001b[39m\u001b[38;5;124m\"\u001b[39m: [\u001b[38;5;241m50000\u001b[39m, \u001b[38;5;241m60000\u001b[39m, \u001b[38;5;241m70000\u001b[39m, \u001b[38;5;28;01mNone\u001b[39;00m, \u001b[38;5;241m80000\u001b[39m]\n\u001b[1;32m      8\u001b[0m })\n\u001b[1;32m     10\u001b[0m \u001b[38;5;66;03m# Step 2: Initialize a Great Expectations context (you must run 'great_expectations init' first)\u001b[39;00m\n\u001b[0;32m---> 11\u001b[0m context \u001b[38;5;241m=\u001b[39m \u001b[43mge\u001b[49m\u001b[38;5;241;43m.\u001b[39;49m\u001b[43mdata_context\u001b[49m\u001b[38;5;241;43m.\u001b[39;49m\u001b[43mDataContext\u001b[49m(\u001b[38;5;124m\"\u001b[39m\u001b[38;5;124m/path/to/great_expectations/directory\u001b[39m\u001b[38;5;124m\"\u001b[39m)  \u001b[38;5;66;03m# Update with your actual path\u001b[39;00m\n\u001b[1;32m     13\u001b[0m \u001b[38;5;66;03m# Step 3: Add a Pandas datasource (ensure your directory is properly initialized)\u001b[39;00m\n\u001b[1;32m     14\u001b[0m context\u001b[38;5;241m.\u001b[39madd_datasource(\n\u001b[1;32m     15\u001b[0m     name\u001b[38;5;241m=\u001b[39m\u001b[38;5;124m\"\u001b[39m\u001b[38;5;124mmy_pandas_datasource\u001b[39m\u001b[38;5;124m\"\u001b[39m,\n\u001b[1;32m     16\u001b[0m     class_name\u001b[38;5;241m=\u001b[39m\u001b[38;5;124m\"\u001b[39m\u001b[38;5;124mDatasource\u001b[39m\u001b[38;5;124m\"\u001b[39m,\n\u001b[0;32m   (...)\u001b[0m\n\u001b[1;32m     25\u001b[0m     }\n\u001b[1;32m     26\u001b[0m )\n",
      "\u001b[0;31mAttributeError\u001b[0m: module 'great_expectations.data_context' has no attribute 'DataContext'"
     ]
    }
   ],
   "source": [
    "import great_expectations as ge\n",
    "import pandas as pd\n",
    "\n",
    "# Step 1: Create sample data\n",
    "df = pd.DataFrame({\n",
    "    \"age\": [25, 30, None, 40, 50],\n",
    "    \"salary\": [50000, 60000, 70000, None, 80000]\n",
    "})\n",
    "\n",
    "# Step 2: Initialize a Great Expectations context (you must run 'great_expectations init' first)\n",
    "context = ge.data_context.DataContext(\"/path/to/great_expectations/directory\")  # Update with your actual path\n",
    "\n",
    "# Step 3: Add a Pandas datasource (ensure your directory is properly initialized)\n",
    "context.add_datasource(\n",
    "    name=\"my_pandas_datasource\",\n",
    "    class_name=\"Datasource\",\n",
    "    execution_engine={\n",
    "        \"class_name\": \"PandasExecutionEngine\"\n",
    "    },\n",
    "    data_connectors={\n",
    "        \"default_runtime_data_connector\": {\n",
    "            \"class_name\": \"RuntimeDataConnector\",\n",
    "            \"batch_identifiers\": [\"default_identifier\"]\n",
    "        }\n",
    "    }\n",
    ")\n",
    "\n",
    "# Step 4: Create a batch request\n",
    "batch_request = ge.core.batch.RuntimeBatchRequest(\n",
    "    datasource_name=\"my_pandas_datasource\",\n",
    "    data_connector_name=\"default_runtime_data_connector\",\n",
    "    data_asset_name=\"my_asset\",\n",
    "    batch_identifiers={\"default_identifier\": \"default_id\"}\n",
    ")\n",
    "\n",
    "# Step 5: Create the expectation suite\n",
    "suite = context.add_expectation_suite(\"my_suite\")\n",
    "\n",
    "# Step 6: Get validator and add expectations\n",
    "validator = context.get_validator(\n",
    "    batch_request=batch_request,\n",
    "    expectation_suite=suite\n",
    ")\n",
    "\n",
    "# Add expectations\n",
    "validator.expect_column_values_to_be_in_set(\"age\", [25, 30, 40, 50])  # Expect 'age' to be within this set\n",
    "validator.expect_column_values_to_be_in_range(\"salary\", min_value=50000, max_value=80000)  # Expect 'salary' to be in this range\n",
    "\n",
    "# Step 7: Validate and check unmet expectations\n",
    "results = validator.validate()\n",
    "print(f\"Unmet Expectations: {results['results']}\")\n",
    "\n",
    "# Step 8: Generate Data Docs\n",
    "context.build_data_docs()\n"
   ]
  },
  {
   "cell_type": "code",
   "execution_count": null,
   "metadata": {},
   "outputs": [],
   "source": []
  }
 ],
 "metadata": {
  "kernelspec": {
   "display_name": "Python 3",
   "language": "python",
   "name": "python3"
  },
  "language_info": {
   "codemirror_mode": {
    "name": "ipython",
    "version": 3
   },
   "file_extension": ".py",
   "mimetype": "text/x-python",
   "name": "python",
   "nbconvert_exporter": "python",
   "pygments_lexer": "ipython3",
   "version": "3.10.12"
  }
 },
 "nbformat": 4,
 "nbformat_minor": 2
}
