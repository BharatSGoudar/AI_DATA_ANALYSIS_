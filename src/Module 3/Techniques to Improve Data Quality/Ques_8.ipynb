{
 "cells": [
  {
   "cell_type": "code",
   "execution_count": 1,
   "metadata": {},
   "outputs": [
    {
     "ename": "AttributeError",
     "evalue": "'EphemeralDataContext' object has no attribute 'sources'",
     "output_type": "error",
     "traceback": [
      "\u001b[0;31m---------------------------------------------------------------------------\u001b[0m",
      "\u001b[0;31mAttributeError\u001b[0m                            Traceback (most recent call last)",
      "Cell \u001b[0;32mIn[1], line 14\u001b[0m\n\u001b[1;32m     11\u001b[0m context \u001b[38;5;241m=\u001b[39m gx\u001b[38;5;241m.\u001b[39mget_context()  \u001b[38;5;66;03m# Now this is a FileDataContext, not Ephemeral\u001b[39;00m\n\u001b[1;32m     13\u001b[0m \u001b[38;5;66;03m# Step 2: Add a Pandas datasource (only once)\u001b[39;00m\n\u001b[0;32m---> 14\u001b[0m \u001b[43mcontext\u001b[49m\u001b[38;5;241;43m.\u001b[39;49m\u001b[43msources\u001b[49m\u001b[38;5;241m.\u001b[39madd_pandas(name\u001b[38;5;241m=\u001b[39m\u001b[38;5;124m\"\u001b[39m\u001b[38;5;124mmy_pandas\u001b[39m\u001b[38;5;124m\"\u001b[39m)\n\u001b[1;32m     16\u001b[0m \u001b[38;5;66;03m# Step 3: Add a dataframe asset\u001b[39;00m\n\u001b[1;32m     17\u001b[0m datasource \u001b[38;5;241m=\u001b[39m context\u001b[38;5;241m.\u001b[39msources\u001b[38;5;241m.\u001b[39mmy_pandas\n",
      "\u001b[0;31mAttributeError\u001b[0m: 'EphemeralDataContext' object has no attribute 'sources'"
     ]
    }
   ],
   "source": [
    "import pandas as pd\n",
    "import great_expectations as gx\n",
    "\n",
    "# Sample DataFrame\n",
    "df = pd.DataFrame({\n",
    "    \"age\": [25, 30, None, 40, 50],\n",
    "    \"salary\": [50000, 60000, 70000, None, 80000]\n",
    "})\n",
    "\n",
    "# Step 1: Load project context (requires 'great_expectations init' done first)\n",
    "context = gx.get_context()  # Now this is a FileDataContext, not Ephemeral\n",
    "\n",
    "# Step 2: Add a Pandas datasource (only once)\n",
    "context.sources.add_pandas(name=\"my_pandas\")\n",
    "\n",
    "# Step 3: Add a dataframe asset\n",
    "datasource = context.sources.my_pandas\n",
    "asset = datasource.add_dataframe_asset(name=\"my_asset\", dataframe=df)\n",
    "\n",
    "# Step 4: Build batch\n",
    "batch = asset.build_batch()\n",
    "\n",
    "# Step 5: Create expectation suite\n",
    "suite = context.add_expectation_suite(\"my_suite\")\n",
    "\n",
    "# Step 6: Validator\n",
    "validator = context.get_validator(batch=batch, expectation_suite=suite)\n",
    "validator.expect_column_values_to_not_be_null(\"age\")\n",
    "\n",
    "# Step 7: Checkpoint and run\n",
    "checkpoint = context.add_or_update_checkpoint(name=\"my_checkpoint\", validator=validator)\n",
    "results = checkpoint.run()\n",
    "\n",
    "print(results)\n"
   ]
  }
 ],
 "metadata": {
  "kernelspec": {
   "display_name": "Python 3",
   "language": "python",
   "name": "python3"
  },
  "language_info": {
   "codemirror_mode": {
    "name": "ipython",
    "version": 3
   },
   "file_extension": ".py",
   "mimetype": "text/x-python",
   "name": "python",
   "nbconvert_exporter": "python",
   "pygments_lexer": "ipython3",
   "version": "3.10.12"
  }
 },
 "nbformat": 4,
 "nbformat_minor": 2
}
