{
 "cells": [
  {
   "cell_type": "code",
   "execution_count": 1,
   "metadata": {},
   "outputs": [
    {
     "name": "stdout",
     "output_type": "stream",
     "text": [
      "Original DataFrame:\n",
      "      Name   Age   Salary\n",
      "0    Alice  25.0  50000.0\n",
      "1      Bob   NaN  60000.0\n",
      "2  Charlie  30.0      NaN\n",
      "3    Alice  25.0  50000.0\n",
      "4    David  28.0  70000.0\n",
      "5     None  28.0  70000.0\n",
      "\n",
      "Missing Values Count:\n",
      "Name      1\n",
      "Age       1\n",
      "Salary    1\n",
      "dtype: int64\n",
      "\n",
      "After Filling Missing Values:\n",
      "      Name   Age   Salary\n",
      "0    Alice  25.0  50000.0\n",
      "1      Bob  28.0  60000.0\n",
      "2  Charlie  30.0  60000.0\n",
      "3    Alice  25.0  50000.0\n",
      "4    David  28.0  70000.0\n",
      "5    Alice  28.0  70000.0\n",
      "\n",
      "Duplicate Rows:\n",
      "    Name   Age   Salary\n",
      "3  Alice  25.0  50000.0\n",
      "\n",
      "After Removing Duplicates:\n",
      "      Name   Age   Salary\n",
      "0    Alice  25.0  50000.0\n",
      "1      Bob  28.0  60000.0\n",
      "2  Charlie  30.0  60000.0\n",
      "4    David  28.0  70000.0\n",
      "5    Alice  28.0  70000.0\n",
      "\n",
      "Final Cleaned Dataset:\n",
      "      Name   Age   Salary\n",
      "0    Alice  25.0  50000.0\n",
      "1      Bob  28.0  60000.0\n",
      "2  Charlie  30.0  60000.0\n",
      "4    David  28.0  70000.0\n",
      "5    Alice  28.0  70000.0\n"
     ]
    }
   ],
   "source": [
    "import pandas as pd\n",
    "import numpy as np\n",
    "data = {\n",
    "    'Name': ['Alice', 'Bob', 'Charlie', 'Alice', 'David', None],\n",
    "    'Age': [25, None, 30, 25, 28, 28],\n",
    "    'Salary': [50000, 60000, None, 50000, 70000, 70000]\n",
    "}\n",
    "df = pd.DataFrame(data)\n",
    "print(\"Original DataFrame:\")\n",
    "print(df)\n",
    "print(\"\\nMissing Values Count:\")\n",
    "print(df.isnull().sum())\n",
    "df['Age'].fillna(df['Age'].median(), inplace=True)\n",
    "df['Salary'].fillna(df['Salary'].median(), inplace=True)\n",
    "df['Name'].fillna(df['Name'].mode()[0], inplace=True)\n",
    "print(\"\\nAfter Filling Missing Values:\")\n",
    "print(df)\n",
    "print(\"\\nDuplicate Rows:\")\n",
    "print(df[df.duplicated()])\n",
    "df.drop_duplicates(inplace=True)\n",
    "print(\"\\nAfter Removing Duplicates:\")\n",
    "print(df)\n",
    "print(\"\\nFinal Cleaned Dataset:\")\n",
    "print(df)       "
   ]
  },
  {
   "cell_type": "code",
   "execution_count": 2,
   "metadata": {},
   "outputs": [
    {
     "name": "stdout",
     "output_type": "stream",
     "text": [
      "Standardized People Dataset:\n",
      "      Name   Age\n",
      "0    alice  26.0\n",
      "1      bob  30.0\n",
      "2  charlie  23.0\n",
      "\n",
      "Formatted Product Dataset:\n",
      "  Product    Price\n",
      "0   phone   200.00\n",
      "1  laptop  1299.50\n",
      "2  tablet   350.46\n"
     ]
    }
   ],
   "source": [
    "import pandas as pd\n",
    "data1 = {\n",
    "    'Name': ['Alice', 'BOB', 'CharLie'],\n",
    "    'Age': [25.7, 30.2, 22.9]\n",
    "}\n",
    "df1 = pd.DataFrame(data1)\n",
    "df1['Name'] = df1['Name'].str.lower()\n",
    "df1['Age'] = df1['Age'].round()\n",
    "print(\"Standardized People Dataset:\")\n",
    "print(df1)\n",
    "data2 = {\n",
    "    'Product': ['  Phone ', 'Laptop', 'TABLET '],\n",
    "    'Price': [199.999, 1299.5, 350.459]\n",
    "}\n",
    "df2 = pd.DataFrame(data2)\n",
    "df2['Product'] = df2['Product'].str.strip().str.lower()\n",
    "df2['Price'] = df2['Price'].round(2)\n",
    "print(\"\\nFormatted Product Dataset:\")\n",
    "print(df2)        \n",
    "        "
   ]
  }
 ],
 "metadata": {
  "kernelspec": {
   "display_name": "Python 3",
   "language": "python",
   "name": "python3"
  },
  "language_info": {
   "codemirror_mode": {
    "name": "ipython",
    "version": 3
   },
   "file_extension": ".py",
   "mimetype": "text/x-python",
   "name": "python",
   "nbconvert_exporter": "python",
   "pygments_lexer": "ipython3",
   "version": "3.10.12"
  }
 },
 "nbformat": 4,
 "nbformat_minor": 2
}
