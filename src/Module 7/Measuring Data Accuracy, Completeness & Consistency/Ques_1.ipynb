{
 "cells": [
  {
   "cell_type": "markdown",
   "metadata": {},
   "source": [
    "### Task 1: Measure Data Accuracy using a Trusted Source\n",
    "\n",
    "**Description**: You have two datasets of product prices: `company_prices.csv` and\n",
    "`trusted_prices.csv` . Check if the prices in `company_prices.csv` match the prices in\n",
    "`trusted_prices.csv` . Assume both files have a \"product_id\" and \"price\" column."
   ]
  },
  {
   "cell_type": "code",
   "execution_count": 1,
   "metadata": {},
   "outputs": [
    {
     "name": "stdout",
     "output_type": "stream",
     "text": [
      "Error: One or both of the CSV files were not found. Please ensure 'company_prices.csv' and 'trusted_prices.csv' are in the correct directory.\n",
      "Could not proceed with price comparison due to missing datasets.\n"
     ]
    }
   ],
   "source": [
    "# Write your code from here\n",
    "import pandas as pd\n",
    "\n",
    "# Load the datasets\n",
    "company_prices = None  # Initialize to None\n",
    "trusted_prices = None  # Initialize to None\n",
    "try:\n",
    "    company_prices = pd.read_csv('company_prices.csv')\n",
    "    trusted_prices = pd.read_csv('trusted_prices.csv')\n",
    "except FileNotFoundError:\n",
    "    print(\"Error: One or both of the CSV files were not found. Please ensure 'company_prices.csv' and 'trusted_prices.csv' are in the correct directory.\")\n",
    "    exit()\n",
    "\n",
    "# Rename the 'price' column in the trusted dataset for clarity during merging\n",
    "if trusted_prices is not None:\n",
    "    trusted_prices = trusted_prices.rename(columns={'price': 'trusted_price'})\n",
    "\n",
    "# Merge the two dataframes based on 'product_id'\n",
    "if company_prices is not None and trusted_prices is not None:\n",
    "    merged_df = pd.merge(company_prices, trusted_prices, on='product_id', how='inner')\n",
    "\n",
    "    # Check if a trusted price was found for each product in the company prices\n",
    "    if merged_df.empty:\n",
    "        print(\"No matching product IDs found between the two datasets. Cannot assess price accuracy.\")\n",
    "    else:\n",
    "        # Compare the 'price' from the company with the 'trusted_price'\n",
    "        merged_df['price_match'] = merged_df['price'] == merged_df['trusted_price']\n",
    "\n",
    "        # Calculate the accuracy\n",
    "        accuracy = merged_df['price_match'].mean() * 100\n",
    "\n",
    "        # Display the comparison and accuracy\n",
    "        print(\"Comparison of Company Prices with Trusted Prices:\")\n",
    "        print(merged_df[['product_id', 'price', 'trusted_price', 'price_match']])\n",
    "        print(f\"\\nAccuracy of Company Prices compared to Trusted Prices: {accuracy:.2f}%\")\n",
    "\n",
    "        # You can also analyze discrepancies\n",
    "        mismatched_prices = merged_df[~merged_df['price_match']]\n",
    "        if not mismatched_prices.empty:\n",
    "            print(\"\\nProducts with Mismatched Prices:\")\n",
    "            print(mismatched_prices[['product_id', 'price', 'trusted_price']])\n",
    "        else:\n",
    "            print(\"\\nAll matched product prices are accurate.\")\n",
    "else:\n",
    "    print(\"Could not proceed with price comparison due to missing datasets.\")"
   ]
  },
  {
   "cell_type": "markdown",
   "metadata": {},
   "source": [
    "### Task 2: Detect Incorrect Values\n",
    "\n",
    "**Description**: In `company_prices.csv` , detect any negative price values which are incorrect values for prices."
   ]
  },
  {
   "cell_type": "code",
   "execution_count": 2,
   "metadata": {},
   "outputs": [
    {
     "name": "stdout",
     "output_type": "stream",
     "text": [
      "Error: 'company_prices.csv' was not found. Please ensure the file is in the correct directory.\n",
      "Could not proceed with detecting incorrect prices because 'company_prices.csv' was not loaded.\n"
     ]
    }
   ],
   "source": [
    "# Write your code from here\n",
    "import pandas as pd\n",
    "\n",
    "# Load the dataset\n",
    "company_prices = None  # Initialize to None\n",
    "try:\n",
    "    company_prices = pd.read_csv('company_prices.csv')\n",
    "except FileNotFoundError:\n",
    "    print(\"Error: 'company_prices.csv' was not found. Please ensure the file is in the correct directory.\")\n",
    "    exit()\n",
    "\n",
    "# Detect negative price values only if the DataFrame was loaded\n",
    "if company_prices is not None:\n",
    "    incorrect_prices = company_prices[company_prices['price'] < 0]\n",
    "\n",
    "    # Check if any incorrect prices were found\n",
    "    if not incorrect_prices.empty:\n",
    "        print(\"Detected Incorrect (Negative) Price Values in company_prices.csv:\")\n",
    "        print(incorrect_prices)\n",
    "        print(f\"\\nNumber of incorrect price values found: {len(incorrect_prices)}\")\n",
    "    else:\n",
    "        print(\"No incorrect (negative) price values found in company_prices.csv.\")\n",
    "else:\n",
    "    print(\"Could not proceed with detecting incorrect prices because 'company_prices.csv' was not loaded.\")"
   ]
  },
  {
   "cell_type": "markdown",
   "metadata": {},
   "source": [
    "### Task 3: Check Missing Data Rates\n",
    "\n",
    "**Description**: Calculate the percentage of missing values in `customer_data.csv` ."
   ]
  },
  {
   "cell_type": "code",
   "execution_count": 3,
   "metadata": {},
   "outputs": [
    {
     "name": "stdout",
     "output_type": "stream",
     "text": [
      "Error: 'customer_data.csv' was not found. Please ensure the file is in the correct directory.\n",
      "Could not proceed with calculating missing data rates because 'customer_data.csv' was not loaded.\n"
     ]
    }
   ],
   "source": [
    "# Write your code from here\n",
    "import pandas as pd\n",
    "\n",
    "# Load the dataset\n",
    "customer_data = None  # Initialize to None\n",
    "try:\n",
    "    customer_data = pd.read_csv('customer_data.csv')\n",
    "except FileNotFoundError:\n",
    "    print(\"Error: 'customer_data.csv' was not found. Please ensure the file is in the correct directory.\")\n",
    "    exit()\n",
    "\n",
    "# Calculate the number of missing values per column only if the DataFrame was loaded\n",
    "if customer_data is not None:\n",
    "    missing_values_count = customer_data.isnull().sum()\n",
    "\n",
    "    # Calculate the total number of entries in the DataFrame\n",
    "    total_entries = len(customer_data)\n",
    "\n",
    "    # Calculate the percentage of missing values per column\n",
    "    missing_percentage = (missing_values_count / total_entries) * 100\n",
    "\n",
    "    # Display the missing data rates\n",
    "    print(\"Percentage of Missing Values per Column in customer_data.csv:\")\n",
    "    print(missing_percentage)\n",
    "\n",
    "    # Optionally, you can display columns with any missing values\n",
    "    columns_with_missing = missing_percentage[missing_percentage > 0]\n",
    "    if not columns_with_missing.empty:\n",
    "        print(\"\\nColumns with Missing Data:\")\n",
    "        print(columns_with_missing)\n",
    "    else:\n",
    "        print(\"\\nNo missing data found in any column.\")\n",
    "else:\n",
    "    print(\"Could not proceed with calculating missing data rates because 'customer_data.csv' was not loaded.\")"
   ]
  },
  {
   "cell_type": "markdown",
   "metadata": {},
   "source": [
    "### Task 4: Handling Partially Available Records\n",
    "\n",
    "**Description**: In `customer_data.csv` , identify records with missing \"email\" or \"phone number\" and decide whether to drop or fill them."
   ]
  },
  {
   "cell_type": "code",
   "execution_count": null,
   "metadata": {},
   "outputs": [
    {
     "name": "stdout",
     "output_type": "stream",
     "text": [
      "Error: 'customer_data.csv' was not found. Please ensure the file is in the correct directory.\n",
      "Could not proceed with handling partially available records because 'customer_data.csv' was not loaded.\n"
     ]
    },
    {
     "ename": "",
     "evalue": "",
     "output_type": "error",
     "traceback": [
      "\u001b[1;31mThe Kernel crashed while executing code in the current cell or a previous cell. \n",
      "\u001b[1;31mPlease review the code in the cell(s) to identify a possible cause of the failure. \n",
      "\u001b[1;31mClick <a href='https://aka.ms/vscodeJupyterKernelCrash'>here</a> for more info. \n",
      "\u001b[1;31mView Jupyter <a href='command:jupyter.viewOutput'>log</a> for further details."
     ]
    }
   ],
   "source": [
    "# Write your code from here\n",
    "import pandas as pd\n",
    "\n",
    "# Load the dataset\n",
    "customer_data = None  # Initialize to None\n",
    "try:\n",
    "    customer_data = pd.read_csv('customer_data.csv')\n",
    "except FileNotFoundError:\n",
    "    print(\"Error: 'customer_data.csv' was not found. Please ensure the file is in the correct directory.\")\n",
    "    exit()\n",
    "\n",
    "# Identify records with missing \"email\" or \"phone_number\" only if the DataFrame was loaded\n",
    "if customer_data is not None:\n",
    "    missing_contact_info = customer_data[customer_data['email'].isnull() | customer_data['phone_number'].isnull()]\n",
    "\n",
    "    print(\"Records with Missing 'email' or 'phone_number':\")\n",
    "    print(missing_contact_info)\n",
    "    print(f\"\\nNumber of records with missing 'email' or 'phone_number': {len(missing_contact_info)}\")\n",
    "\n",
    "    # --- Decision Point: Drop or Fill ---\n",
    "    decision = input(\"\\nDo you want to (drop) these records or (fill) the missing values? (drop/fill): \").lower()\n",
    "\n",
    "    if decision == 'drop':\n",
    "        customer_data_cleaned = customer_data[~(customer_data['email'].isnull() | customer_data['phone_number'].isnull())].copy()\n",
    "        print(\"\\nRecords with missing 'email' OR 'phone_number' dropped.\")\n",
    "        print(f\"Shape of original data: {customer_data.shape}\")\n",
    "        print(f\"Shape of data after dropping: {customer_data_cleaned.shape}\")\n",
    "    elif decision == 'fill':\n",
    "        fill_choice = input(\"\\nHow do you want to fill the missing values? (e.g., 'unknown', specific value): \")\n",
    "        customer_data_filled = customer_data.copy()\n",
    "        customer_data_filled['email'].fillna(fill_choice, inplace=True)\n",
    "        customer_data_filled['phone_number'].fillna(fill_choice, inplace=True)\n",
    "        print(f\"\\nMissing 'email' and 'phone_number' values filled with '{fill_choice}'.\")\n",
    "        print(\"\\nData after filling:\")\n",
    "        print(customer_data_filled[customer_data['email'].isnull() | customer_data['phone_number'].isnull()])\n",
    "    else:\n",
    "        print(\"\\nInvalid decision. No changes were made to the data.\")\n",
    "\n",
    "else:\n",
    "    print(\"Could not proceed with handling partially available records because 'customer_data.csv' was not loaded.\")\n",
    "\n",
    "# You can further work with customer_data_cleaned (if dropped) or customer_data_filled (if filled)"
   ]
  }
 ],
 "metadata": {
  "kernelspec": {
   "display_name": "Python 3",
   "language": "python",
   "name": "python3"
  },
  "language_info": {
   "codemirror_mode": {
    "name": "ipython",
    "version": 3
   },
   "file_extension": ".py",
   "mimetype": "text/x-python",
   "name": "python",
   "nbconvert_exporter": "python",
   "pygments_lexer": "ipython3",
   "version": "3.10.12"
  }
 },
 "nbformat": 4,
 "nbformat_minor": 2
}
