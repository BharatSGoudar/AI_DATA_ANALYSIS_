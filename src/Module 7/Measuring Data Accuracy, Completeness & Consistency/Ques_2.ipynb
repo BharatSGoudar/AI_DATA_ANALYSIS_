{
 "cells": [
  {
   "cell_type": "markdown",
   "metadata": {},
   "source": [
    "## Find Conflicting Values Across Datasets\n",
    "\n",
    "**Description**: You have two datasets: `crm_customers.csv` and `erp_customers.csv` . Find customers with conflicting \"email\" information."
   ]
  },
  {
   "cell_type": "code",
   "execution_count": null,
   "metadata": {},
   "outputs": [
    {
     "name": "stdout",
     "output_type": "stream",
     "text": [
      "Error: One or both of the CSV files were not found. Please ensure 'crm_customers.csv' and 'erp_customers.csv' are in the correct directory.\n",
      "Could not proceed with finding conflicting emails due to missing datasets.\n"
     ]
    },
    {
     "ename": "",
     "evalue": "",
     "output_type": "error",
     "traceback": [
      "\u001b[1;31mThe Kernel crashed while executing code in the current cell or a previous cell. \n",
      "\u001b[1;31mPlease review the code in the cell(s) to identify a possible cause of the failure. \n",
      "\u001b[1;31mClick <a href='https://aka.ms/vscodeJupyterKernelCrash'>here</a> for more info. \n",
      "\u001b[1;31mView Jupyter <a href='command:jupyter.viewOutput'>log</a> for further details."
     ]
    }
   ],
   "source": [
    "\n",
    "import pandas as pd\n",
    "\n",
    "# Load the datasets\n",
    "crm_customers = None  # Initialize to None\n",
    "erp_customers = None  # Initialize to None\n",
    "try:\n",
    "    crm_customers = pd.read_csv('crm_customers.csv')\n",
    "    erp_customers = pd.read_csv('erp_customers.csv')\n",
    "except FileNotFoundError:\n",
    "    print(\"Error: One or both of the CSV files were not found. Please ensure 'crm_customers.csv' and 'erp_customers.csv' are in the correct directory.\")\n",
    "    exit()\n",
    "\n",
    "\n",
    "if crm_customers is not None and erp_customers is not None:\n",
    "    merged_customers = pd.merge(crm_customers, erp_customers, on='customer_id', how='inner', suffixes=('_crm', '_erp'))\n",
    "\n",
    "    # Check for conflicting email information\n",
    "    conflicting_emails = merged_customers[merged_customers['email_crm'] != merged_customers['email_erp']]\n",
    "\n",
    "    # Display the customers with conflicting email information\n",
    "    if not conflicting_emails.empty:\n",
    "        print(\"Customers with Conflicting Email Information Across Datasets:\")\n",
    "        print(conflicting_emails[['customer_id', 'email_crm', 'email_erp']])\n",
    "        print(f\"\\nNumber of customers with conflicting email information: {len(conflicting_emails)}\")\n",
    "    else:\n",
    "        print(\"No customers found with conflicting email information across the datasets.\")\n",
    "\n",
    "    # You might want to further investigate or resolve these conflicts based on your business logic\n",
    "else:\n",
    "    print(\"Could not proceed with finding conflicting emails due to missing datasets.\")"
   ]
  }
 ],
 "metadata": {
  "kernelspec": {
   "display_name": "Python 3",
   "language": "python",
   "name": "python3"
  },
  "language_info": {
   "codemirror_mode": {
    "name": "ipython",
    "version": 3
   },
   "file_extension": ".py",
   "mimetype": "text/x-python",
   "name": "python",
   "nbconvert_exporter": "python",
   "pygments_lexer": "ipython3",
   "version": "3.10.12"
  }
 },
 "nbformat": 4,
 "nbformat_minor": 2
}
