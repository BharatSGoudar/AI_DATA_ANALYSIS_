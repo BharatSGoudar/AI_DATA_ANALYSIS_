{
 "cells": [
  {
   "cell_type": "markdown",
   "metadata": {},
   "source": [
    "## Compare Data Completeness Over Time\n",
    "\n",
    "**Description**: Analyze the trend of missing data in `\"sales_data.csv\"` over several months stored in a \"date\" column. Visualize missing data rates by month."
   ]
  },
  {
   "cell_type": "code",
   "execution_count": null,
   "metadata": {},
   "outputs": [
    {
     "name": "stdout",
     "output_type": "stream",
     "text": [
      "Error: 'sales_data.csv' was not found. Please ensure the file is in the correct directory.\n",
      "Could not proceed with analyzing data completeness because 'sales_data.csv' was not loaded.\n"
     ]
    },
    {
     "ename": "",
     "evalue": "",
     "output_type": "error",
     "traceback": [
      "\u001b[1;31mThe Kernel crashed while executing code in the current cell or a previous cell. \n",
      "\u001b[1;31mPlease review the code in the cell(s) to identify a possible cause of the failure. \n",
      "\u001b[1;31mClick <a href='https://aka.ms/vscodeJupyterKernelCrash'>here</a> for more info. \n",
      "\u001b[1;31mView Jupyter <a href='command:jupyter.viewOutput'>log</a> for further details."
     ]
    }
   ],
   "source": [
    "\n",
    "import pandas as pd\n",
    "import matplotlib.pyplot as plt\n",
    "import seaborn as sns\n",
    "sales_data = None  # Initialize to None\n",
    "try:\n",
    "    sales_data = pd.read_csv('sales_data.csv')\n",
    "except FileNotFoundError:\n",
    "    print(\"Error: 'sales_data.csv' was not found. Please ensure the file is in the correct directory.\")\n",
    "    exit()\n",
    "\n",
    "if sales_data is not None:\n",
    "    if 'date' in sales_data.columns:\n",
    "        sales_data['date'] = pd.to_datetime(sales_data['date'])\n",
    "        sales_data['month'] = sales_data['date'].dt.to_period('M')  # Extract year-month\n",
    "        missing_data_rates = sales_data.groupby('month').apply(lambda x: x.isnull().mean() * 100)\n",
    "        plt.figure(figsize=(12, 6))\n",
    "        sns.heatmap(missing_data_rates, cmap='viridis', annot=True, fmt=\".1f\")\n",
    "        plt.title('Missing Data Rates by Month')\n",
    "        plt.xlabel('Columns')\n",
    "        plt.ylabel('Month')\n",
    "        plt.tight_layout()\n",
    "        plt.show()\n",
    "        print(\"\\nMissing Data Rates by Month (Table):\")\n",
    "        print(missing_data_rates)\n",
    "\n",
    "    else:\n",
    "        print(\"Error: 'date' column not found in sales_data.csv. Ensure the date column is present.\")\n",
    "else:\n",
    "    print(\"Could not proceed with analyzing data completeness because 'sales_data.csv' was not loaded.\")"
   ]
  }
 ],
 "metadata": {
  "kernelspec": {
   "display_name": "Python 3",
   "language": "python",
   "name": "python3"
  },
  "language_info": {
   "codemirror_mode": {
    "name": "ipython",
    "version": 3
   },
   "file_extension": ".py",
   "mimetype": "text/x-python",
   "name": "python",
   "nbconvert_exporter": "python",
   "pygments_lexer": "ipython3",
   "version": "3.10.12"
  }
 },
 "nbformat": 4,
 "nbformat_minor": 2
}
