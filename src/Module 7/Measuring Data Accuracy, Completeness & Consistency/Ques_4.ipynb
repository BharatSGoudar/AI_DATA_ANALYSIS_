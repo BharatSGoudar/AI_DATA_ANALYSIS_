{
 "cells": [
  {
   "cell_type": "markdown",
   "metadata": {},
   "source": [
    "## Ensuring Consistency in Multi-source Data Integration\n",
    "\n",
    "**Description**: Validate the integration of two datasets `products_A.csv` and `products_B.csv` . Ensure consistency in product \"category\" information."
   ]
  },
  {
   "cell_type": "code",
   "execution_count": null,
   "metadata": {},
   "outputs": [
    {
     "name": "stdout",
     "output_type": "stream",
     "text": [
      "Error: One or both of the CSV files were not found. Please ensure 'products_A.csv' and 'products_B.csv' are in the correct directory.\n",
      "Could not proceed with validating product category consistency due to missing datasets.\n"
     ]
    },
    {
     "ename": "",
     "evalue": "",
     "output_type": "error",
     "traceback": [
      "\u001b[1;31mThe Kernel crashed while executing code in the current cell or a previous cell. \n",
      "\u001b[1;31mPlease review the code in the cell(s) to identify a possible cause of the failure. \n",
      "\u001b[1;31mClick <a href='https://aka.ms/vscodeJupyterKernelCrash'>here</a> for more info. \n",
      "\u001b[1;31mView Jupyter <a href='command:jupyter.viewOutput'>log</a> for further details."
     ]
    }
   ],
   "source": [
    "#\n",
    "import pandas as pd\n",
    "products_a = None\n",
    "products_b = None\n",
    "try:\n",
    "    products_a = pd.read_csv('products_A.csv')\n",
    "    products_b = pd.read_csv('products_B.csv')\n",
    "except FileNotFoundError:\n",
    "    print(\"Error: One or both of the CSV files were not found. Please ensure 'products_A.csv' and 'products_B.csv' are in the correct directory.\")\n",
    "    exit()\n",
    "if products_a is not None and products_b is not None:\n",
    "    merged_products = pd.merge(products_a, products_b, on='product_id', how='inner', suffixes=('_A', '_B'))\n",
    "    if 'category_A' in merged_products.columns and 'category_B' in merged_products.columns:\n",
    "        inconsistent_categories = merged_products[merged_products['category_A'].astype(str).str.lower() != merged_products['category_B'].astype(str).str.lower()]\n",
    "        if not inconsistent_categories.empty:\n",
    "            print(\"Products with Inconsistent Category Information (Case-Insensitive) Across Datasets:\")\n",
    "            print(inconsistent_categories[['product_id', 'category_A', 'category_B']])\n",
    "            print(f\"\\nNumber of products with inconsistent categories (case-insensitive): {len(inconsistent_categories)}\")\n",
    "        else:\n",
    "            print(\"No products found with inconsistent category information (case-insensitive) across the datasets.\")\n",
    "    else:\n",
    "        print(\"Error: One or both datasets do not have a 'category' column after merging (with suffixes '_A' and '_B'). Please check the column names.\")\n",
    "\n",
    "else:\n",
    "    print(\"Could not proceed with validating product category consistency due to missing datasets.\")"
   ]
  }
 ],
 "metadata": {
  "kernelspec": {
   "display_name": "Python 3",
   "language": "python",
   "name": "python3"
  },
  "language_info": {
   "codemirror_mode": {
    "name": "ipython",
    "version": 3
   },
   "file_extension": ".py",
   "mimetype": "text/x-python",
   "name": "python",
   "nbconvert_exporter": "python",
   "pygments_lexer": "ipython3",
   "version": "3.10.12"
  }
 },
 "nbformat": 4,
 "nbformat_minor": 2
}
