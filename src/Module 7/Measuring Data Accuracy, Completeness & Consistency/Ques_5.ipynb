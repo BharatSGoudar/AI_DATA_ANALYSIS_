{
 "cells": [
  {
   "cell_type": "markdown",
   "metadata": {},
   "source": [
    "## Validate Data Completeness for Critical Fields\n",
    "\n",
    "**Description**: In `transaction_data.csv` , calculate the missing percentage of critical fields: \"transaction_id\", \"amount\", and \"date\", and visualize them."
   ]
  },
  {
   "cell_type": "code",
   "execution_count": null,
   "metadata": {},
   "outputs": [
    {
     "name": "stdout",
     "output_type": "stream",
     "text": [
      "Error: 'transaction_data.csv' was not found. Please ensure the file is in the correct directory.\n",
      "Could not proceed with validating data completeness because 'transaction_data.csv' was not loaded.\n"
     ]
    },
    {
     "ename": "",
     "evalue": "",
     "output_type": "error",
     "traceback": [
      "\u001b[1;31mThe Kernel crashed while executing code in the current cell or a previous cell. \n",
      "\u001b[1;31mPlease review the code in the cell(s) to identify a possible cause of the failure. \n",
      "\u001b[1;31mClick <a href='https://aka.ms/vscodeJupyterKernelCrash'>here</a> for more info. \n",
      "\u001b[1;31mView Jupyter <a href='command:jupyter.viewOutput'>log</a> for further details."
     ]
    }
   ],
   "source": [
    "\n",
    "import pandas as pd\n",
    "import matplotlib.pyplot as plt\n",
    "import seaborn as sns\n",
    "transaction_data = None\n",
    "try:\n",
    "    transaction_data = pd.read_csv('transaction_data.csv')\n",
    "except FileNotFoundError:\n",
    "    print(\"Error: 'transaction_data.csv' was not found. Please ensure the file is in the correct directory.\")\n",
    "    exit()\n",
    "\n",
    "if transaction_data is not None:\n",
    "    critical_fields = [\"transaction_id\", \"amount\", \"date\"]\n",
    "    missing_percentages = {}\n",
    "\n",
    "    for field in critical_fields:\n",
    "        if field in transaction_data.columns:\n",
    "            missing_count = transaction_data[field].isnull().sum()\n",
    "            total_count = len(transaction_data)\n",
    "            missing_percentage = (missing_count / total_count) * 100\n",
    "            missing_percentages[field] = missing_percentage\n",
    "        else:\n",
    "            print(f\"Warning: Critical field '{field}' not found in the dataset.\")\n",
    "\n",
    "    if missing_percentages:\n",
    "        plt.figure(figsize=(8, 6))\n",
    "        sns.barplot(x=list(missing_percentages.keys()), y=list(missing_percentages.values()))\n",
    "        plt.title('Missing Percentage of Critical Fields')\n",
    "        plt.xlabel('Critical Fields')\n",
    "        plt.ylabel('Missing Percentage (%)')\n",
    "        plt.ylim(0, 100)\n",
    "        plt.tight_layout()\n",
    "        plt.show()\n",
    "        print(\"\\nMissing Percentage of Critical Fields:\")\n",
    "        for field, percentage in missing_percentages.items():\n",
    "            print(f\"{field}: {percentage:.2f}%\")\n",
    "    else:\n",
    "        print(\"No critical fields were found in the dataset to analyze missing percentages.\")\n",
    "\n",
    "else:\n",
    "    print(\"Could not proceed with validating data completeness because 'transaction_data.csv' was not loaded.\")"
   ]
  }
 ],
 "metadata": {
  "kernelspec": {
   "display_name": "Python 3",
   "language": "python",
   "name": "python3"
  },
  "language_info": {
   "codemirror_mode": {
    "name": "ipython",
    "version": 3
   },
   "file_extension": ".py",
   "mimetype": "text/x-python",
   "name": "python",
   "nbconvert_exporter": "python",
   "pygments_lexer": "ipython3",
   "version": "3.10.12"
  }
 },
 "nbformat": 4,
 "nbformat_minor": 2
}
