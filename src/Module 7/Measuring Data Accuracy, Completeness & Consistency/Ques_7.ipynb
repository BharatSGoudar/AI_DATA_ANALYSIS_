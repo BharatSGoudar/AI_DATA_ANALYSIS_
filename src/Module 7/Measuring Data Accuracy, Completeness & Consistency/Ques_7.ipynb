{
 "cells": [
  {
   "cell_type": "markdown",
   "metadata": {},
   "source": [
    "## Advanced Consistency Check with Hierarchical Data\n",
    "\n",
    "**Description**: You have two datasets `orders.csv` and `order_items.csv` . Perform a consistency check to ensure each order in `orders.csv` has corresponding items in `order_items.csv` ."
   ]
  },
  {
   "cell_type": "code",
   "execution_count": null,
   "metadata": {},
   "outputs": [
    {
     "name": "stdout",
     "output_type": "stream",
     "text": [
      "Error: One or both of the CSV files were not found. Please ensure 'orders.csv' and 'order_items.csv' are in the correct directory.\n",
      "Could not proceed with the consistency check due to missing datasets.\n"
     ]
    },
    {
     "ename": "",
     "evalue": "",
     "output_type": "error",
     "traceback": [
      "\u001b[1;31mThe Kernel crashed while executing code in the current cell or a previous cell. \n",
      "\u001b[1;31mPlease review the code in the cell(s) to identify a possible cause of the failure. \n",
      "\u001b[1;31mClick <a href='https://aka.ms/vscodeJupyterKernelCrash'>here</a> for more info. \n",
      "\u001b[1;31mView Jupyter <a href='command:jupyter.viewOutput'>log</a> for further details."
     ]
    }
   ],
   "source": [
    "# Write your code from here\n",
    "import pandas as pd\n",
    "\n",
    "# Load the datasets\n",
    "orders = None\n",
    "order_items = None\n",
    "try:\n",
    "    orders = pd.read_csv('orders.csv')\n",
    "    order_items = pd.read_csv('order_items.csv')\n",
    "except FileNotFoundError:\n",
    "    print(\"Error: One or both of the CSV files were not found. Please ensure 'orders.csv' and 'order_items.csv' are in the correct directory.\")\n",
    "    exit()\n",
    "\n",
    "if orders is not None and order_items is not None:\n",
    "    # Assuming 'order_id' is the common identifier linking the two datasets\n",
    "    if 'order_id' in orders.columns and 'order_id' in order_items.columns:\n",
    "        # Get all unique order IDs from the orders dataset\n",
    "        all_order_ids = set(orders['order_id'])\n",
    "\n",
    "        # Get all unique order IDs present in the order items dataset\n",
    "        item_order_ids = set(order_items['order_id'])\n",
    "\n",
    "        # Find order IDs that are in the orders dataset but not in the order items dataset\n",
    "        orders_without_items = all_order_ids - item_order_ids\n",
    "\n",
    "        if orders_without_items:\n",
    "            print(\"Consistency Check Result: Found orders without corresponding items in 'order_items.csv':\")\n",
    "            print(f\"Number of orders without items: {len(orders_without_items)}\")\n",
    "            # Optionally, print the specific order IDs without items\n",
    "            # print(\"Order IDs without items:\", orders_without_items)\n",
    "        else:\n",
    "            print(\"Consistency Check Result: All orders in 'orders.csv' have corresponding items in 'order_items.csv'.\")\n",
    "\n",
    "        # Optional: Check for order items without a corresponding order (might indicate data integrity issues)\n",
    "        orders_without_items_reverse = item_order_ids - all_order_ids\n",
    "        if orders_without_items_reverse:\n",
    "            print(\"\\nPotential Data Integrity Issue: Found items in 'order_items.csv' without a corresponding order in 'orders.csv':\")\n",
    "            print(f\"Number of items without a corresponding order: {len(orders_without_items_reverse)}\")\n",
    "            # Optionally, print the specific order IDs of these items\n",
    "            # print(\"Order IDs of items without orders:\", orders_without_items_reverse)\n",
    "    else:\n",
    "        print(\"Error: 'order_id' column not found in one or both of the datasets. Ensure 'order_id' is the common identifier.\")\n",
    "\n",
    "else:\n",
    "    print(\"Could not proceed with the consistency check due to missing datasets.\")\n",
    "    "
   ]
  }
 ],
 "metadata": {
  "kernelspec": {
   "display_name": "Python 3",
   "language": "python",
   "name": "python3"
  },
  "language_info": {
   "codemirror_mode": {
    "name": "ipython",
    "version": 3
   },
   "file_extension": ".py",
   "mimetype": "text/x-python",
   "name": "python",
   "nbconvert_exporter": "python",
   "pygments_lexer": "ipython3",
   "version": "3.10.12"
  }
 },
 "nbformat": 4,
 "nbformat_minor": 2
}
