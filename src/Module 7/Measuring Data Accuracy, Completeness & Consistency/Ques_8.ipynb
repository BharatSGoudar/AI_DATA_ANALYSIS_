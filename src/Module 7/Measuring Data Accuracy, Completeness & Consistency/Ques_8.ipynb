{
 "cells": [
  {
   "cell_type": "markdown",
   "metadata": {},
   "source": [
    "# Measuring Data Accuracy\n",
    "\n",
    "**Activity Overview**: Assess data accuracy by comparing it to a trusted source and detecting incorrect values or mismatches.\n",
    "\n",
    "## Title: Product Pricing\n",
    "\n",
    "**Task**: Compare a dataset of product prices with the latest official price list.\n",
    "\n",
    "**Steps**:\n",
    "1. Obtain the latest product price list from the official company website.\n",
    "2. Compare the dataset's product prices against the verified list.\n",
    "3. Identify any discrepancies and mark them for correction."
   ]
  },
  {
   "cell_type": "code",
   "execution_count": 1,
   "metadata": {},
   "outputs": [
    {
     "name": "stdout",
     "output_type": "stream",
     "text": [
      "Product Price Discrepancies:\n",
      "  Product_ID  Price_Dataset  Price_Official  \\\n",
      "1       P002           20.0            25.0   \n",
      "3       P004           40.0            45.0   \n",
      "\n",
      "                                 Discrepancy  \n",
      "1  Dataset Price: 20.0, Official Price: 25.0  \n",
      "3  Dataset Price: 40.0, Official Price: 45.0  \n"
     ]
    }
   ],
   "source": [
    "# Write your code from here\n",
    "import pandas as pd\n",
    "\n",
    "def assess_product_price_accuracy(dataset_path, official_price_list_path):\n",
    "    try:\n",
    "        dataset_df = pd.read_csv(dataset_path)\n",
    "        official_prices_df = pd.read_csv(official_price_list_path)\n",
    "        if not all(col in dataset_df.columns for col in ['Product_ID', 'Price']):\n",
    "            print(\"Error: Dataset must contain 'Product_ID' and 'Price' columns.\")\n",
    "            return None\n",
    "        if not all(col in official_prices_df.columns for col in ['Product_ID', 'Price']):\n",
    "            print(\"Error: Official price list must contain 'Product_ID' and 'Price' columns.\")\n",
    "            return None\n",
    "        merged_df = pd.merge(dataset_df, official_prices_df, on='Product_ID', suffixes=('_Dataset', '_Official'))\n",
    "        discrepancy_df = merged_df[merged_df['Price_Dataset'] != merged_df['Price_Official']].copy()\n",
    "        if discrepancy_df.empty:\n",
    "            print(\"No price discrepancies found.\")\n",
    "            return pd.DataFrame()\n",
    "        discrepancy_df['Discrepancy'] = discrepancy_df.apply(\n",
    "            lambda row: f\"Dataset Price: {row['Price_Dataset']}, Official Price: {row['Price_Official']}\", axis=1\n",
    "        )\n",
    "        return discrepancy_df[['Product_ID', 'Price_Dataset', 'Price_Official', 'Discrepancy']]\n",
    "    except FileNotFoundError as e:\n",
    "        print(f\"Error: File not found: {e.filename}\")\n",
    "        return None\n",
    "    except KeyError as e:\n",
    "        print(f\"Error: Column not found: {e}\")\n",
    "        return None\n",
    "    except Exception as e:\n",
    "        print(f\"An unexpected error occurred: {e}\")\n",
    "        return None\n",
    "\n",
    "if __name__ == '__main__':\n",
    "    dataset_data = {'Product_ID': ['P001', 'P002', 'P003', 'P004', 'P005'],\n",
    "                    'Price': [10.00, 20.00, 30.00, 40.00, 50.00],\n",
    "                    'Other_Data': ['A', 'B', 'C', 'D', 'E']}\n",
    "    official_price_list_data = {'Product_ID': ['P001', 'P002', 'P003', 'P004', 'P006'],\n",
    "                               'Price': [10.00, 25.00, 30.00, 45.00, 60.00]}\n",
    "    dataset_df = pd.DataFrame(dataset_data)\n",
    "    official_price_list_df = pd.DataFrame(official_price_list_data)\n",
    "    dataset_file_path = 'dataset.csv'\n",
    "    official_price_list_file_path = 'official_prices.csv'\n",
    "    dataset_df.to_csv(dataset_file_path, index=False)\n",
    "    official_price_list_df.to_csv(official_price_list_file_path, index=False)\n",
    "    discrepancies = assess_product_price_accuracy(dataset_file_path, official_price_list_file_path)\n",
    "    if discrepancies is not None and not discrepancies.empty:\n",
    "        print(\"Product Price Discrepancies:\")\n",
    "        print(discrepancies)\n",
    "    elif discrepancies is not None:\n",
    "        print(\"No discrepancies found.\")\n",
    "    else:\n",
    "        print(\"An error occurred during the process.\")\n"
   ]
  }
 ],
 "metadata": {
  "kernelspec": {
   "display_name": "Python 3",
   "language": "python",
   "name": "python3"
  },
  "language_info": {
   "codemirror_mode": {
    "name": "ipython",
    "version": 3
   },
   "file_extension": ".py",
   "mimetype": "text/x-python",
   "name": "python",
   "nbconvert_exporter": "python",
   "pygments_lexer": "ipython3",
   "version": "3.10.12"
  }
 },
 "nbformat": 4,
 "nbformat_minor": 2
}
