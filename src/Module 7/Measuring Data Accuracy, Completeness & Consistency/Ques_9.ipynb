{
 "cells": [
  {
   "cell_type": "markdown",
   "metadata": {},
   "source": [
    "# Measuring Completeness\n",
    "\n",
    "**Activity Overview**: Evaluate data completeness by checking missing data rates and handling partially available records.\n",
    "\n",
    "## Title: Customer Profiles\n",
    "\n",
    "**Task**: Calculate the missing data rate for customer profiles.\n",
    "\n",
    "**Steps**:\n",
    "1. List all required fields for a complete customer profile (e.g., name, address, email,\n",
    "phone number).\n",
    "2. Analyze the dataset to count how many profiles have missing fields.\n",
    "3. Calculate the percentage of missing data fields across all profiles."
   ]
  },
  {
   "cell_type": "code",
   "execution_count": 1,
   "metadata": {},
   "outputs": [
    {
     "name": "stdout",
     "output_type": "stream",
     "text": [
      "Overall Percentage of Missing Data Fields: 15.00%\n",
      "\n",
      "Profiles with Missing Fields:\n",
      "           Name      Address                   Email Phone Number        City  Missing_Fields\n",
      "2   Peter Jones          NaN  peter.jones@sample.org     555-9012   Othertown       [Address]\n",
      "3   Alice Brown  101 Pine Ln                     NaN     555-3456     Bigcity         [Email]\n",
      "4  Bob Williams   222 Elm Rd   bob.williams@work.net          NaN  Smallville  [Phone Number]\n"
     ]
    }
   ],
   "source": [
    "# Write your code from here\n",
    "import pandas as pd\n",
    "import numpy as np\n",
    "\n",
    "def calculate_missing_data_rate(dataset_path, required_fields):\n",
    "    try:\n",
    "        df = pd.read_csv(dataset_path)\n",
    "        for field in required_fields:\n",
    "            if field not in df.columns:\n",
    "                print(f\"Error: Required field '{field}' not found in the dataset.\")\n",
    "                return None, None\n",
    "        missing_data = df[required_fields].isnull()\n",
    "        missing_count_series = missing_data.sum(axis=1)\n",
    "        total_missing_count = missing_count_series.sum()\n",
    "        total_possible_fields = len(required_fields) * len(df)\n",
    "        missing_percentage = (total_missing_count / total_possible_fields) * 100 if total_possible_fields else 0.0\n",
    "        profiles_with_missing_fields_df = df[missing_count_series > 0].copy()\n",
    "        if profiles_with_missing_fields_df.empty:\n",
    "            print(\"No profiles with missing fields found.\")\n",
    "            return missing_percentage, pd.DataFrame()\n",
    "        profiles_with_missing_fields_df['Missing_Fields'] = profiles_with_missing_fields_df.apply(\n",
    "            lambda row: [field for field in required_fields if pd.isna(row[field])], axis=1\n",
    "        )\n",
    "        return missing_percentage, profiles_with_missing_fields_df\n",
    "    except FileNotFoundError as e:\n",
    "        print(f\"Error: File not found: {e.filename}\")\n",
    "        return None, None\n",
    "    except Exception as e:\n",
    "        print(f\"An unexpected error occurred: {e}\")\n",
    "        return None, None\n",
    "\n",
    "if __name__ == '__main__':\n",
    "    data = {\n",
    "        'Name': ['John Doe', 'Jane Smith', 'Peter Jones', 'Alice Brown', 'Bob Williams'],\n",
    "        'Address': ['123 Main St', '456 Oak Ave', None, '101 Pine Ln', '222 Elm Rd'],\n",
    "        'Email': ['john.doe@example.com', 'jane.smith@example.com', 'peter.jones@sample.org', None, 'bob.williams@work.net'],\n",
    "        'Phone Number': ['555-1234', '555-5678', '555-9012', '555-3456', None],\n",
    "        'City': ['Anytown', 'Someville', 'Othertown', 'Bigcity', 'Smallville'],\n",
    "    }\n",
    "    df = pd.DataFrame(data)\n",
    "    dataset_file_path = 'customer_profiles.csv'\n",
    "    df.to_csv(dataset_file_path, index=False)\n",
    "    required_fields = ['Name', 'Address', 'Email', 'Phone Number']\n",
    "    missing_percentage, profiles_with_missing_fields_df = calculate_missing_data_rate(dataset_file_path, required_fields)\n",
    "    if missing_percentage is not None:\n",
    "        print(f\"Overall Percentage of Missing Data Fields: {missing_percentage:.2f}%\")\n",
    "        if profiles_with_missing_fields_df is not None and not profiles_with_missing_fields_df.empty:\n",
    "            print(\"\\nProfiles with Missing Fields:\")\n",
    "            print(profiles_with_missing_fields_df.to_string())\n",
    "        elif profiles_with_missing_fields_df is not None:\n",
    "            print(\"\\nNo profiles with missing fields.\")\n",
    "    else:\n",
    "        print(\"An error occurred during the process.\")\n"
   ]
  }
 ],
 "metadata": {
  "kernelspec": {
   "display_name": "Python 3",
   "language": "python",
   "name": "python3"
  },
  "language_info": {
   "codemirror_mode": {
    "name": "ipython",
    "version": 3
   },
   "file_extension": ".py",
   "mimetype": "text/x-python",
   "name": "python",
   "nbconvert_exporter": "python",
   "pygments_lexer": "ipython3",
   "version": "3.10.12"
  }
 },
 "nbformat": 4,
 "nbformat_minor": 2
}
