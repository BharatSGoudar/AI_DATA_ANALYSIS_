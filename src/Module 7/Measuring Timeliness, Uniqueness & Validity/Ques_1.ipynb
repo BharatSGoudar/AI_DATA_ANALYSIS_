{
 "cells": [
  {
   "cell_type": "markdown",
   "metadata": {},
   "source": [
    "## Format Compliance for Email\n",
    "\n",
    "**Description**: Check if emails in a list are valid based on a basic regex pattern."
   ]
  },
  {
   "cell_type": "code",
   "execution_count": 1,
   "metadata": {},
   "outputs": [
    {
     "name": "stdout",
     "output_type": "stream",
     "text": [
      "Valid Emails:\n",
      "['test@example.com', 'user.name+tag@domain.co', 'user@domain.com', 'user@domain..com']\n",
      "\n",
      "Invalid Emails:\n",
      "['invalid-email@.com', 'user@domain', 'user@domain.c', 'user@domain.com.']\n"
     ]
    }
   ],
   "source": [
    "# Write your code from here\n",
    "import re\n",
    "\n",
    "def is_valid_email(email):\n",
    "    # Basic regex pattern for validating an email\n",
    "    pattern = r'^[a-zA-Z0-9._%+-]+@[a-zA-Z0-9.-]+\\.[a-zA-Z]{2,}$'\n",
    "    return re.match(pattern, email) is not None\n",
    "\n",
    "def validate_email_list(email_list):\n",
    "    valid_emails = []\n",
    "    invalid_emails = []\n",
    "    \n",
    "    for email in email_list:\n",
    "        if is_valid_email(email):\n",
    "            valid_emails.append(email)\n",
    "        else:\n",
    "            invalid_emails.append(email)\n",
    "    \n",
    "    return valid_emails, invalid_emails\n",
    "\n",
    "# Sample email list\n",
    "emails = [\n",
    "    \"test@example.com\",\n",
    "    \"invalid-email@.com\",\n",
    "    \"user.name+tag@domain.co\",\n",
    "    \"user@domain\",\n",
    "    \"user@domain.com\",\n",
    "    \"user@domain.c\",\n",
    "    \"user@domain..com\",\n",
    "    \"user@domain.com.\"\n",
    "]\n",
    "\n",
    "# Validate the email list\n",
    "valid_emails, invalid_emails = validate_email_list(emails)\n",
    "\n",
    "# Display the results\n",
    "print(\"Valid Emails:\")\n",
    "print(valid_emails)\n",
    "print(\"\\nInvalid Emails:\")\n",
    "print(invalid_emails)\n"
   ]
  },
  {
   "cell_type": "markdown",
   "metadata": {},
   "source": [
    "## Format Compliance for Phone Numbers\n",
    "\n",
    "**Description**: Verify if the phone numbers follow a specific pattern."
   ]
  },
  {
   "cell_type": "code",
   "execution_count": 2,
   "metadata": {},
   "outputs": [
    {
     "name": "stdout",
     "output_type": "stream",
     "text": [
      "Valid Phone Numbers:\n",
      "['(123) 456-7890', '123-456-7890', '123.456.7890', '1234567890', '+31636363634']\n",
      "\n",
      "Invalid Phone Numbers:\n",
      "['075-63546725', '123-45-6789', '123-456-78901', 'abc-def-ghij']\n"
     ]
    }
   ],
   "source": [
    "# Write your code from here\n",
    "import re\n",
    "\n",
    "def is_valid_phone_number(phone_number):\n",
    "    # Regex pattern for validating phone numbers\n",
    "    pattern = r'^(?:\\+?\\d{1,3})?[-. ]?\\(?\\d{3}\\)?[-. ]?\\d{3}[-. ]?\\d{4}$'\n",
    "    return re.match(pattern, phone_number) is not None\n",
    "\n",
    "def validate_phone_number_list(phone_number_list):\n",
    "    valid_numbers = []\n",
    "    invalid_numbers = []\n",
    "    \n",
    "    for number in phone_number_list:\n",
    "        if is_valid_phone_number(number):\n",
    "            valid_numbers.append(number)\n",
    "        else:\n",
    "            invalid_numbers.append(number)\n",
    "    \n",
    "    return valid_numbers, invalid_numbers\n",
    "\n",
    "# Sample phone number list\n",
    "phone_numbers = [\n",
    "    \"(123) 456-7890\",\n",
    "    \"123-456-7890\",\n",
    "    \"123.456.7890\",\n",
    "    \"1234567890\",\n",
    "    \"+31636363634\",\n",
    "    \"075-63546725\",\n",
    "    \"123-45-6789\",  # Invalid\n",
    "    \"123-456-78901\",  # Invalid\n",
    "    \"abc-def-ghij\"  # Invalid\n",
    "]\n",
    "\n",
    "# Validate the phone number list\n",
    "valid_numbers, invalid_numbers = validate_phone_number_list(phone_numbers)\n",
    "\n",
    "# Display the results\n",
    "print(\"Valid Phone Numbers:\")\n",
    "print(valid_numbers)\n",
    "print(\"\\nInvalid Phone Numbers:\")\n",
    "print(invalid_numbers)\n"
   ]
  },
  {
   "cell_type": "markdown",
   "metadata": {},
   "source": [
    "## Checking Date Validity Format\n",
    "\n",
    "**Description**: Ensure the dates in a list adhere to a specific format (e.g., YYYY-MM-DD)."
   ]
  },
  {
   "cell_type": "code",
   "execution_count": 3,
   "metadata": {},
   "outputs": [
    {
     "name": "stdout",
     "output_type": "stream",
     "text": [
      "Valid Dates:\n",
      "['2023-01-15', '2023-05-01', '2023-12-31', '2023-01-15']\n",
      "\n",
      "Invalid Dates:\n",
      "['2023-02-29', '2023-04-31', '2023-13-01', '2023-00-01', '2023-01-32', '2023-01-15T00:00:00']\n"
     ]
    }
   ],
   "source": [
    "# Write your code from here\n",
    "import re\n",
    "from datetime import datetime\n",
    "\n",
    "def is_valid_date(date_string):\n",
    "    # Regex pattern for validating the date format YYYY-MM-DD\n",
    "    pattern = r'^\\d{4}-\\d{2}-\\d{2}$'\n",
    "    \n",
    "    # Check if the date matches the regex pattern\n",
    "    if not re.match(pattern, date_string):\n",
    "        return False\n",
    "    \n",
    "    # Check if the date is valid\n",
    "    try:\n",
    "        year, month, day = map(int, date_string.split('-'))\n",
    "        datetime(year, month, day)  # This will raise a ValueError if the date is invalid\n",
    "        return True\n",
    "    except ValueError:\n",
    "        return False\n",
    "\n",
    "def validate_date_list(date_list):\n",
    "    valid_dates = []\n",
    "    invalid_dates = []\n",
    "    \n",
    "    for date in date_list:\n",
    "        if is_valid_date(date):\n",
    "            valid_dates.append(date)\n",
    "        else:\n",
    "            invalid_dates.append(date)\n",
    "    \n",
    "    return valid_dates, invalid_dates\n",
    "\n",
    "# Sample date list\n",
    "dates = [\n",
    "    \"2023-01-15\",\n",
    "    \"2023-02-29\",  # Invalid (2023 is not a leap year)\n",
    "    \"2023-04-31\",  # Invalid (April has 30 days)\n",
    "    \"2023-05-01\",\n",
    "    \"2023-12-31\",\n",
    "    \"2023-13-01\",  # Invalid (Month out of range)\n",
    "    \"2023-00-01\",   # Invalid (Month out of range)\n",
    "    \"2023-01-32\",   # Invalid (Day out of range)\n",
    "    \"2023-01-15T00:00:00\",  # Invalid format\n",
    "    \"2023-01-15\"  # Valid\n",
    "]\n",
    "\n",
    "# Validate the date list\n",
    "valid_dates, invalid_dates = validate_date_list(dates)\n",
    "\n",
    "# Display the results\n",
    "print(\"Valid Dates:\")\n",
    "print(valid_dates)\n",
    "print(\"\\nInvalid Dates:\")\n",
    "print(invalid_dates)\n"
   ]
  }
 ],
 "metadata": {
  "kernelspec": {
   "display_name": "Python 3",
   "language": "python",
   "name": "python3"
  },
  "language_info": {
   "codemirror_mode": {
    "name": "ipython",
    "version": 3
   },
   "file_extension": ".py",
   "mimetype": "text/x-python",
   "name": "python",
   "nbconvert_exporter": "python",
   "pygments_lexer": "ipython3",
   "version": "3.10.12"
  }
 },
 "nbformat": 4,
 "nbformat_minor": 2
}
