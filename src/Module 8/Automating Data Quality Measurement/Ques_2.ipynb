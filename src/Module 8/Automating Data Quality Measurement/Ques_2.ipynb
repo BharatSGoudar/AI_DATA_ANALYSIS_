{
 "cells": [
  {
   "cell_type": "markdown",
   "metadata": {},
   "source": [
    "### Task 1: Validate Data with a Custom Expectation in Great Expectations\n",
    "**Description**: Create a custom expectation and validate data with Great Expectations.\n",
    "\n",
    "**Load a sample DataFrame**\n",
    "\n",
    "data = {\n",
    "'age': [25, 30, 35, 40, 45],\n",
    "'income': [50000, 60000, 75000, None, 100000]\n",
    "}"
   ]
  },
  {
   "cell_type": "code",
   "execution_count": null,
   "metadata": {},
   "outputs": [],
   "source": [
    "import pandas as pd\n",
    "import great_expectations as ge\n",
    "\n",
    "# Step 1: Sample data\n",
    "data = {\n",
    "    'age': [25, 30, 35, 40, 45],\n",
    "    'income': [50000, 60000, 75000, None, 100000]\n",
    "}\n",
    "df = pd.DataFrame(data)\n",
    "\n",
    "# Step 2: Create an in-memory context (EphemeralContext)\n",
    "context = ge.data_context.DataContext.create_ephemeral_context()\n",
    "\n",
    "# Step 3: Create a new expectation suite\n",
    "suite_name = \"custom_suite\"\n",
    "suite = context.create_expectation_suite(suite_name=suite_name, overwrite_existing=True)\n",
    "\n",
    "# Step 4: Create a Validator for the DataFrame\n",
    "validator = context.create_validator(\n",
    "    batch_kwargs={\"batch_data\": df},\n",
    "    expectation_suite=suite\n",
    ")\n",
    "\n",
    "# Step 5: Add Expectations\n",
    "# Expect the 'age' column to not have any null values\n",
    "validator.expect_column_values_to_not_be_null(\"age\")\n",
    "\n",
    "# Expect the 'income' column to not have any null values\n",
    "validator.expect_column_values_to_not_be_null(\"income\")\n",
    "\n",
    "# Step 6: Validate and get the results\n",
    "results = validator.validate()\n",
    "\n",
    "# Step 7: Print the validation results\n",
    "if results[\"success\"]:\n",
    "    print(\"✅ Validation Passed\")\n",
    "else:\n",
    "    print(\"❌ Validation Failed\")\n",
    "\n",
    "# Optionally, print details of the validation results\n",
    "for result in results[\"results\"]:\n",
    "    print(f\" - Expectation: {result['expectation_config']['expectation_type']}\")\n",
    "    print(f\"   Column: {result['expectation_config']['kwargs']['column']}\")\n",
    "    print(f\"   Success: {result['success']}\")\n"
   ]
  },
  {
   "cell_type": "markdown",
   "metadata": {},
   "source": [
    "### Task 2: Implement a Basic Alert System for Data Quality Drops\n",
    "**Description**: Set up a basic alert system that triggers when data quality drops."
   ]
  },
  {
   "cell_type": "code",
   "execution_count": null,
   "metadata": {},
   "outputs": [],
   "source": [
    "\n",
    "import pandas as pd\n",
    "data = {\n",
    "    'name': ['Alice', 'Bob', None, 'David', 'Eva'],\n",
    "    'age': [25, None, 35, 40, None],\n",
    "    'income': [50000, 60000, 75000, None, 100000]\n",
    "}\n",
    "df = pd.DataFrame(data)\n",
    "def calculate_dqi(df):\n",
    "    dqi_scores = {}\n",
    "    for col in df.columns:\n",
    "        total = len(df[col])\n",
    "        valid = df[col].notnull().sum()\n",
    "        dqi = valid / total if total > 0 else 0\n",
    "        dqi_scores[col] = round(dqi, 2)\n",
    "    return dqi_scores\n",
    "DQI_THRESHOLD = 0.8\n",
    "dqi_scores = calculate_dqi(df)\n",
    "alerts = []\n",
    "for col, dqi in dqi_scores.items():\n",
    "    if dqi < DQI_THRESHOLD:\n",
    "        alerts.append(f\"⚠️ Alert: Data Quality for '{col}' dropped to {dqi*100:.0f}%\")\n",
    "print(\"📊 Data Quality Index (DQI) Scores:\")\n",
    "for col, score in dqi_scores.items():\n",
    "    print(f\"  - {col}: {score*100:.0f}%\")\n",
    "if alerts:\n",
    "    print(\"\\n🚨 Alerts:\")\n",
    "    for alert in alerts:\n",
    "        print(alert)\n",
    "else:\n",
    "    print(\"\\n✅ All columns meet the data quality threshold.\")\n"
   ]
  },
  {
   "cell_type": "markdown",
   "metadata": {},
   "source": [
    "### Task 3: Real-time Data Quality Monitoring with Python and Great Expectations\n",
    "**Description**: Implement a system that monitors data quality in real-time."
   ]
  },
  {
   "cell_type": "code",
   "execution_count": null,
   "metadata": {},
   "outputs": [],
   "source": [
    "import pandas as pd\n",
    "import time\n",
    "import great_expectations as gx\n",
    "from great_expectations.validator.validator import Validator\n",
    "from great_expectations.expectations.core import ExpectColumnValuesToNotBeNull\n",
    "data_batches = [\n",
    "    pd.DataFrame({'id': [1, 2, 3], 'age': [25, 30, 35]}),\n",
    "    pd.DataFrame({'id': [4, 5, 6], 'age': [None, 28, None]}),\n",
    "    pd.DataFrame({'id': [7, 8, 9], 'age': [40, 45, 50]}),\n",
    "]\n",
    "context = gx.get_context(mode=\"ephemeral\")\n",
    "suite_name = \"real_time_data_quality_suite\"\n",
    "context.add_expectation_suite(expectation_suite_name=suite_name)\n",
    "context.save_expectation_suite(\n",
    "    expectation_suite=context.get_expectation_suite(suite_name)\n",
    ")\n",
    "for i, batch in enumerate(data_batches):\n",
    "    print(f\"\\n📥 Processing batch {i + 1}\")\n",
    "    validator: Validator = Validator(df=batch, expectation_suite=context.get_expectation_suite(suite_name))\n",
    "    validator.expect_column_values_to_not_be_null(\"age\")\n",
    "    results = validator.validate()\n",
    "    success = results[\"success\"]\n",
    "    if success:\n",
    "        print(\"✅ Data Quality Check Passed\")\n",
    "    else:\n",
    "        print(\"❌ Data Quality Issue Detected\")\n",
    "        failed_expectations = results[\"results\"]\n",
    "        for exp in failed_expectations:\n",
    "            if not exp[\"success\"]:\n",
    "                print(f\"  - Failed: {exp['expectation_config']['expectation_type']}\")\n"
   ]
  }
 ],
 "metadata": {
  "kernelspec": {
   "display_name": "Python 3",
   "language": "python",
   "name": "python3"
  },
  "language_info": {
   "codemirror_mode": {
    "name": "ipython",
    "version": 3
   },
   "file_extension": ".py",
   "mimetype": "text/x-python",
   "name": "python",
   "nbconvert_exporter": "python",
   "pygments_lexer": "ipython3",
   "version": "3.10.12"
  }
 },
 "nbformat": 4,
 "nbformat_minor": 2
}
