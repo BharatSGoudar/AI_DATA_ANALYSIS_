{
 "cells": [
  {
   "cell_type": "markdown",
   "metadata": {},
   "source": [
    "## Build a Data Quality Dashboard\n",
    "\n",
    "**Description**: Create a simple dashboard that displays data quality metrics using a library like `dash` or `streamlit`.\n",
    "\n",
    "**Steps:**\n",
    "1. Install Streamlit: pip install streamlit\n",
    "2. Create a Python script dashboard.py.\n",
    "3. Run the dashboard: streamlit run dashboard.py"
   ]
  },
  {
   "cell_type": "code",
   "execution_count": 1,
   "metadata": {},
   "outputs": [
    {
     "name": "stderr",
     "output_type": "stream",
     "text": [
      "2025-05-09 17:38:58.935 WARNING streamlit.runtime.scriptrunner_utils.script_run_context: Thread 'MainThread': missing ScriptRunContext! This warning can be ignored when running in bare mode.\n",
      "2025-05-09 17:38:59.149 \n",
      "  \u001b[33m\u001b[1mWarning:\u001b[0m to view this Streamlit app on a browser, run it with the following\n",
      "  command:\n",
      "\n",
      "    streamlit run /home/vscode/.local/lib/python3.10/site-packages/ipykernel_launcher.py [ARGUMENTS]\n",
      "2025-05-09 17:38:59.150 Thread 'MainThread': missing ScriptRunContext! This warning can be ignored when running in bare mode.\n",
      "2025-05-09 17:38:59.151 Thread 'MainThread': missing ScriptRunContext! This warning can be ignored when running in bare mode.\n",
      "2025-05-09 17:38:59.154 Thread 'MainThread': missing ScriptRunContext! This warning can be ignored when running in bare mode.\n",
      "2025-05-09 17:38:59.155 Thread 'MainThread': missing ScriptRunContext! This warning can be ignored when running in bare mode.\n",
      "2025-05-09 17:38:59.155 Thread 'MainThread': missing ScriptRunContext! This warning can be ignored when running in bare mode.\n",
      "2025-05-09 17:38:59.156 Thread 'MainThread': missing ScriptRunContext! This warning can be ignored when running in bare mode.\n",
      "2025-05-09 17:38:59.157 Thread 'MainThread': missing ScriptRunContext! This warning can be ignored when running in bare mode.\n",
      "2025-05-09 17:38:59.158 Thread 'MainThread': missing ScriptRunContext! This warning can be ignored when running in bare mode.\n",
      "2025-05-09 17:38:59.158 Session state does not function when running a script without `streamlit run`\n",
      "2025-05-09 17:38:59.159 Thread 'MainThread': missing ScriptRunContext! This warning can be ignored when running in bare mode.\n",
      "2025-05-09 17:38:59.160 Thread 'MainThread': missing ScriptRunContext! This warning can be ignored when running in bare mode.\n",
      "2025-05-09 17:38:59.161 Thread 'MainThread': missing ScriptRunContext! This warning can be ignored when running in bare mode.\n",
      "2025-05-09 17:38:59.162 Thread 'MainThread': missing ScriptRunContext! This warning can be ignored when running in bare mode.\n",
      "2025-05-09 17:38:59.163 Thread 'MainThread': missing ScriptRunContext! This warning can be ignored when running in bare mode.\n",
      "2025-05-09 17:38:59.164 Thread 'MainThread': missing ScriptRunContext! This warning can be ignored when running in bare mode.\n",
      "2025-05-09 17:38:59.165 Thread 'MainThread': missing ScriptRunContext! This warning can be ignored when running in bare mode.\n",
      "2025-05-09 17:38:59.165 Thread 'MainThread': missing ScriptRunContext! This warning can be ignored when running in bare mode.\n",
      "2025-05-09 17:38:59.166 Thread 'MainThread': missing ScriptRunContext! This warning can be ignored when running in bare mode.\n",
      "2025-05-09 17:38:59.167 Thread 'MainThread': missing ScriptRunContext! This warning can be ignored when running in bare mode.\n",
      "2025-05-09 17:38:59.308 Thread 'MainThread': missing ScriptRunContext! This warning can be ignored when running in bare mode.\n",
      "2025-05-09 17:38:59.308 Thread 'MainThread': missing ScriptRunContext! This warning can be ignored when running in bare mode.\n"
     ]
    },
    {
     "data": {
      "text/plain": [
       "DeltaGenerator()"
      ]
     },
     "execution_count": 1,
     "metadata": {},
     "output_type": "execute_result"
    }
   ],
   "source": [
    "import streamlit as st\n",
    "import pandas as pd\n",
    "data = {\n",
    "    'Name': ['Alice', 'Bob', None, 'David', 'Eve'],\n",
    "    'Email': ['alice@example.com', 'bob@example.com', 'charlie@', None, 'eve@example.com'],\n",
    "    'Age': [25, 30, 22, None, 29]\n",
    "}\n",
    "df = pd.DataFrame(data)\n",
    "st.title(\"Data Quality Dashboard\")\n",
    "with st.expander(\"Show Raw Data\"):\n",
    "    st.dataframe(df)\n",
    "column = st.selectbox(\"Select Column for Data Quality Index (DQI) Calculation\", df.columns)\n",
    "total_entries = len(df)\n",
    "valid_entries = df[column].notnull().sum()\n",
    "error_entries = total_entries - valid_entries\n",
    "dqi = valid_entries / total_entries if total_entries > 0 else 0\n",
    "st.metric(label=\"Total Entries\", value=total_entries)\n",
    "st.metric(label=\"Valid Entries\", value=valid_entries)\n",
    "st.metric(label=\"Errors (Missing Values)\", value=error_entries)\n",
    "st.metric(label=\"Data Quality Index (DQI)\", value=f\"{dqi:.2f}\")\n",
    "bar_data = pd.DataFrame({\n",
    "    'Metric': ['DQI', 'Errors'],\n",
    "    'Value': [dqi, error_entries]\n",
    "}).set_index('Metric')\n",
    "st.bar_chart(bar_data)\n"
   ]
  }
 ],
 "metadata": {
  "kernelspec": {
   "display_name": "Python 3",
   "language": "python",
   "name": "python3"
  },
  "language_info": {
   "codemirror_mode": {
    "name": "ipython",
    "version": 3
   },
   "file_extension": ".py",
   "mimetype": "text/x-python",
   "name": "python",
   "nbconvert_exporter": "python",
   "pygments_lexer": "ipython3",
   "version": "3.10.12"
  }
 },
 "nbformat": 4,
 "nbformat_minor": 2
}
