{
 "cells": [
  {
   "cell_type": "markdown",
   "metadata": {},
   "source": [
    "### Metadata Management for Data Quality\n",
    "**Description**: Store and use metadata to manage data quality in a pipeline.\n",
    "\n",
    "**Steps**:\n",
    "1. Load metadata\n",
    "2. Load data\n",
    "3. Use metadata to validate data quality\n",
    "4. Show valid data\n"
   ]
  },
  {
   "cell_type": "code",
   "execution_count": 1,
   "metadata": {},
   "outputs": [
    {
     "name": "stdout",
     "output_type": "stream",
     "text": [
      "Valid Data:\n",
      "    name  age   salary\n",
      "0  Alice   30  50000.0\n",
      "1    Bob   25  60000.0\n"
     ]
    }
   ],
   "source": [
    "import pandas as pd\n",
    "metadata = {\n",
    "    'columns': {\n",
    "        'name': {'type': 'string', 'required': True},\n",
    "        'age': {'type': 'integer', 'required': True, 'min': 0, 'max': 120},\n",
    "        'salary': {'type': 'float', 'required': True, 'min': 0.0}\n",
    "    }\n",
    "}\n",
    "data = {\n",
    "    'name': ['Alice', 'Bob', 'Charlie', None, 'David'],\n",
    "    'age': [30, 25, -5, 22, 150],  # Invalid age for Charlie and David\n",
    "    'salary': [50000.0, 60000.0, None, 45000.0, 70000.0]\n",
    "}\n",
    "df = pd.DataFrame(data)\n",
    "def validate_data(df, metadata):\n",
    "    valid_rows = []\n",
    "    for index, row in df.iterrows():\n",
    "        is_valid = True\n",
    "        for column, rules in metadata['columns'].items():\n",
    "            value = row[column]\n",
    "            if rules['required'] and pd.isnull(value):\n",
    "                is_valid = False\n",
    "                break\n",
    "            if rules['type'] == 'integer':\n",
    "                if not (isinstance(value, int) and rules.get('min', float('-inf')) <= value <= rules.get('max', float('inf'))):\n",
    "                    is_valid = False\n",
    "                    break\n",
    "            elif rules['type'] == 'float':\n",
    "                if not (isinstance(value, float) or (pd.isnull(value) and 'min' in rules)):\n",
    "                    is_valid = False\n",
    "                    break\n",
    "        if is_valid:\n",
    "            valid_rows.append(row)\n",
    "    return pd.DataFrame(valid_rows)\n",
    "valid_data = validate_data(df, metadata)\n",
    "print(\"Valid Data:\")\n",
    "print(valid_data)\n"
   ]
  }
 ],
 "metadata": {
  "kernelspec": {
   "display_name": "Python 3",
   "language": "python",
   "name": "python3"
  },
  "language_info": {
   "codemirror_mode": {
    "name": "ipython",
    "version": 3
   },
   "file_extension": ".py",
   "mimetype": "text/x-python",
   "name": "python",
   "nbconvert_exporter": "python",
   "pygments_lexer": "ipython3",
   "version": "3.10.12"
  }
 },
 "nbformat": 4,
 "nbformat_minor": 2
}
