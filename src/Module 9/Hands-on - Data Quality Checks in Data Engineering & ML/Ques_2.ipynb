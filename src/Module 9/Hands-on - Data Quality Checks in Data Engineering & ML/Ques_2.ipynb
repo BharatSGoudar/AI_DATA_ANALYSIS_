{
 "cells": [
  {
   "cell_type": "markdown",
   "metadata": {},
   "source": [
    "### Implementing Adversarial Validation for Data Drift\n",
    "Description: Create and train a classifier that distinguishes between train and test datasets, using the classifier’s performance to infer data drift."
   ]
  },
  {
   "cell_type": "code",
   "execution_count": 1,
   "metadata": {},
   "outputs": [
    {
     "name": "stdout",
     "output_type": "stream",
     "text": [
      "Adversarial Validation AUC: 0.6038\n",
      "✅ No significant data drift detected.\n"
     ]
    }
   ],
   "source": [
    "# write your code from here\n",
    "import pandas as pd\n",
    "import numpy as np\n",
    "from sklearn.model_selection import train_test_split\n",
    "from sklearn.ensemble import RandomForestClassifier\n",
    "from sklearn.metrics import roc_auc_score\n",
    "\n",
    "# Simulated training and test datasets\n",
    "train_data = pd.DataFrame({\n",
    "    'feature1': np.random.normal(0, 1, 500),\n",
    "    'feature2': np.random.normal(5, 1, 500)\n",
    "})\n",
    "\n",
    "test_data = pd.DataFrame({\n",
    "    'feature1': np.random.normal(0.5, 1, 500),\n",
    "    'feature2': np.random.normal(4.5, 1, 500)\n",
    "})\n",
    "\n",
    "# Add label: 0 for train, 1 for test\n",
    "train_data['label'] = 0\n",
    "test_data['label'] = 1\n",
    "\n",
    "# Combine datasets\n",
    "combined = pd.concat([train_data, test_data], ignore_index=True)\n",
    "X = combined.drop('label', axis=1)\n",
    "y = combined['label']\n",
    "\n",
    "# Split into train and validation sets\n",
    "X_train, X_val, y_train, y_val = train_test_split(X, y, test_size=0.3, random_state=42)\n",
    "\n",
    "# Train classifier\n",
    "clf = RandomForestClassifier(n_estimators=100, random_state=42)\n",
    "clf.fit(X_train, y_train)\n",
    "\n",
    "# Evaluate\n",
    "y_pred = clf.predict_proba(X_val)[:, 1]\n",
    "auc = roc_auc_score(y_val, y_pred)\n",
    "\n",
    "print(f\"Adversarial Validation AUC: {auc:.4f}\")\n",
    "\n",
    "if auc > 0.75:\n",
    "    print(\"⚠️ Data drift detected between training and test sets!\")\n",
    "else:\n",
    "    print(\"✅ No significant data drift detected.\")\n"
   ]
  }
 ],
 "metadata": {
  "kernelspec": {
   "display_name": "Python 3",
   "language": "python",
   "name": "python3"
  },
  "language_info": {
   "codemirror_mode": {
    "name": "ipython",
    "version": 3
   },
   "file_extension": ".py",
   "mimetype": "text/x-python",
   "name": "python",
   "nbconvert_exporter": "python",
   "pygments_lexer": "ipython3",
   "version": "3.10.12"
  }
 },
 "nbformat": 4,
 "nbformat_minor": 2
}
