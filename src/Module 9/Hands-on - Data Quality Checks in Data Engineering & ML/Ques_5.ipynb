{
 "cells": [
  {
   "cell_type": "markdown",
   "metadata": {},
   "source": [
    "## Detect Schema Mismatches in Data Pipelines\n",
    "**Objective**: Identify and resolve schema mismatches that commonly occur in data pipelines.\n",
    "\n",
    "**Task**: Missing Column\n",
    "\n",
    "1. Load the source DataFrame with the below schema:\n",
    "    - id : Integer\n",
    "    - email : String\n",
    "    - signup_date : Date\n",
    "2. Load the target DataFrame with the below schema:\n",
    "    - id : Integer\n",
    "    - email : String\n",
    "3. Implement a check to identify any columns that are present in the source DataFrame but missing in the target.\n",
    "4. Add the missing `signup_date` column to the target DataFrame."
   ]
  },
  {
   "cell_type": "code",
   "execution_count": null,
   "metadata": {},
   "outputs": [
    {
     "name": "stdout",
     "output_type": "stream",
     "text": [
      "Missing Columns: ['signup_date']\n",
      "\n",
      "✅ Updated Target DataFrame:\n",
      "   id          email signup_date\n",
      "0   1  a@example.com  2024-01-01\n",
      "1   2  b@example.com  2024-02-01\n",
      "2   3  c@example.com  2024-03-01\n"
     ]
    }
   ],
   "source": [
    "import pandas as pd\n",
    "from datetime import datetime\n",
    "source_data = {\n",
    "    'id': [1, 2, 3],\n",
    "    'email': ['a@example.com', 'b@example.com', 'c@example.com'],\n",
    "    'signup_date': [datetime(2024, 1, 1), datetime(2024, 2, 1), datetime(2024, 3, 1)]\n",
    "}\n",
    "source_df = pd.DataFrame(source_data)\n",
    "target_data = {\n",
    "    'id': [1, 2, 3],\n",
    "    'email': ['a@example.com', 'b@example.com', 'c@example.com']\n",
    "}\n",
    "target_df = pd.DataFrame(target_data)\n",
    "missing_columns = list(set(source_df.columns) - set(target_df.columns))\n",
    "print(\"Missing Columns:\", missing_columns)\n",
    "for col in missing_columns:\n",
    "    target_df[col] = source_df[col]\n",
    "print(\"\\n✅ Updated Target DataFrame:\")\n",
    "print(target_df)\n"
   ]
  }
 ],
 "metadata": {
  "kernelspec": {
   "display_name": "Python 3",
   "language": "python",
   "name": "python3"
  },
  "language_info": {
   "codemirror_mode": {
    "name": "ipython",
    "version": 3
   },
   "file_extension": ".py",
   "mimetype": "text/x-python",
   "name": "python",
   "nbconvert_exporter": "python",
   "pygments_lexer": "ipython3",
   "version": "3.10.12"
  }
 },
 "nbformat": 4,
 "nbformat_minor": 2
}
