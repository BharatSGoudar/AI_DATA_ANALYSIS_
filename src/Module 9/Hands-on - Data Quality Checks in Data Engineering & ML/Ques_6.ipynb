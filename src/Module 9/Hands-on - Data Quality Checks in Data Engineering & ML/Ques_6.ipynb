{
 "cells": [
  {
   "cell_type": "markdown",
   "metadata": {},
   "source": [
    "### Detect Data Drift in ML Models\n",
    "**Objective**: Monitor and detect changes in data distributions that impact ML model performance.\n",
    "\n",
    "**Task**: Categorical Feature Drift\n",
    "\n",
    "**Steps**:\n",
    "1. Load the baseline distribution for a categorical feature (e.g., gender ) from your training dataset.\n",
    "2. Load the same feature from your current production data.\n",
    "3. Use chi-squared tests to compare the distributions of the categorical feature.\n",
    "4. Step 4: If significant drift is detected, investigate the cause and update the model as needed."
   ]
  },
  {
   "cell_type": "code",
   "execution_count": 1,
   "metadata": {},
   "outputs": [
    {
     "name": "stdout",
     "output_type": "stream",
     "text": [
      "Chi-Squared Test Result:\n",
      "Chi2 Statistic: 7.22\n",
      "P-value: 0.0072\n",
      "🚨 Significant drift detected in 'gender' distribution.\n",
      "➡️ Investigate and consider retraining your model.\n"
     ]
    }
   ],
   "source": [
    "\n",
    "import pandas as pd\n",
    "from scipy.stats import chi2_contingency\n",
    "baseline_data = pd.DataFrame({\n",
    "    'gender': ['Male'] * 60 + ['Female'] * 40\n",
    "})\n",
    "production_data = pd.DataFrame({\n",
    "    'gender': ['Male'] * 40 + ['Female'] * 60\n",
    "})\n",
    "baseline_counts = baseline_data['gender'].value_counts().sort_index()\n",
    "production_counts = production_data['gender'].value_counts().sort_index()\n",
    "contingency_table = pd.DataFrame([baseline_counts, production_counts])\n",
    "contingency_table.index = ['Baseline', 'Production']\n",
    "chi2, p, dof, expected = chi2_contingency(contingency_table)\n",
    "print(\"Chi-Squared Test Result:\")\n",
    "print(f\"Chi2 Statistic: {chi2:.2f}\")\n",
    "print(f\"P-value: {p:.4f}\")\n",
    "if p < 0.05:\n",
    "    print(\"🚨 Significant drift detected in 'gender' distribution.\")\n",
    "    print(\"➡️ Investigate and consider retraining your model.\")\n",
    "else:\n",
    "    print(\"✅ No significant drift detected in 'gender' distribution.\")\n"
   ]
  }
 ],
 "metadata": {
  "kernelspec": {
   "display_name": "Python 3",
   "language": "python",
   "name": "python3"
  },
  "language_info": {
   "codemirror_mode": {
    "name": "ipython",
    "version": 3
   },
   "file_extension": ".py",
   "mimetype": "text/x-python",
   "name": "python",
   "nbconvert_exporter": "python",
   "pygments_lexer": "ipython3",
   "version": "3.10.12"
  }
 },
 "nbformat": 4,
 "nbformat_minor": 2
}
