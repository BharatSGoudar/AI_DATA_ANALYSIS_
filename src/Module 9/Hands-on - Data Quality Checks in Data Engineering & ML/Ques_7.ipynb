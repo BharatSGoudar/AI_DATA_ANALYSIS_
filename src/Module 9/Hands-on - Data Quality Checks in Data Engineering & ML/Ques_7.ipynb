{
 "cells": [
  {
   "cell_type": "markdown",
   "metadata": {},
   "source": [
    "### Detect Data Drift in ML Models\n",
    "**Objective**: Monitor and detect changes in data distributions that impact ML model performance.\n",
    "\n",
    "**Task**: Feature Correlation Drift\n",
    "\n",
    "**Steps**:\n",
    "1. Compute the correlation matrix of features in your training dataset.\n",
    "2. Compute the correlation matrix of the same features in your production data.\n",
    "3. Assess changes in the correlation matrix over time to identify any significant deviations.\n",
    "4. Investigate any significant changes in correlation as they may indicate issues in the data collection process or model assumptions."
   ]
  },
  {
   "cell_type": "code",
   "execution_count": null,
   "metadata": {},
   "outputs": [
    {
     "name": "stdout",
     "output_type": "stream",
     "text": [
      "Training Correlation Matrix:\n",
      "          feature1  feature2  feature3\n",
      "feature1       1.0      -1.0       1.0\n",
      "feature2      -1.0       1.0      -1.0\n",
      "feature3       1.0      -1.0       1.0\n",
      "\n",
      "Production Correlation Matrix:\n",
      "          feature1  feature2  feature3\n",
      "feature1       1.0      -1.0       1.0\n",
      "feature2      -1.0       1.0      -1.0\n",
      "feature3       1.0      -1.0       1.0\n",
      "\n",
      "Correlation Matrix Difference:\n",
      "          feature1  feature2  feature3\n",
      "feature1       0.0       0.0       0.0\n",
      "feature2       0.0       0.0       0.0\n",
      "feature3       0.0       0.0       0.0\n",
      "\n",
      "Significant Changes in Correlation:\n",
      "          feature1  feature2  feature3\n",
      "feature1       NaN       NaN       NaN\n",
      "feature2       NaN       NaN       NaN\n",
      "feature3       NaN       NaN       NaN\n"
     ]
    }
   ],
   "source": [
    "# write your code from here\n",
    "import pandas as pd\n",
    "import numpy as np\n",
    "train_data = {\n",
    "    'feature1': [1, 2, 3, 4, 5],\n",
    "    'feature2': [5, 4, 3, 2, 1],\n",
    "    'feature3': [2, 3, 4, 5, 6]\n",
    "}\n",
    "train_df = pd.DataFrame(train_data)\n",
    "train_corr_matrix = train_df.corr()\n",
    "print(\"Training Correlation Matrix:\")\n",
    "print(train_corr_matrix)\n",
    "prod_data = {\n",
    "    'feature1': [1, 2, 3, 4, 6],  # Slight change in the last value\n",
    "    'feature2': [5, 4, 3, 2, 0],  # Drift in feature2\n",
    "    'feature3': [2, 3, 4, 5, 7]   # Drift in feature3\n",
    "}\n",
    "prod_df = pd.DataFrame(prod_data)\n",
    "prod_corr_matrix = prod_df.corr()\n",
    "print(\"\\nProduction Correlation Matrix:\")\n",
    "print(prod_corr_matrix)\n",
    "corr_diff = (train_corr_matrix - prod_corr_matrix).abs()\n",
    "print(\"\\nCorrelation Matrix Difference:\")\n",
    "print(corr_diff)\n",
    "threshold = 0.2  \n",
    "significant_changes = corr_diff[corr_diff > threshold]\n",
    "if not significant_changes.empty:\n",
    "    print(\"\\nSignificant Changes in Correlation:\")\n",
    "    print(significant_changes)\n",
    "else:\n",
    "    print(\"\\nNo significant changes in correlation detected.\")\n",
    "\n"
   ]
  }
 ],
 "metadata": {
  "kernelspec": {
   "display_name": "Python 3",
   "language": "python",
   "name": "python3"
  },
  "language_info": {
   "codemirror_mode": {
    "name": "ipython",
    "version": 3
   },
   "file_extension": ".py",
   "mimetype": "text/x-python",
   "name": "python",
   "nbconvert_exporter": "python",
   "pygments_lexer": "ipython3",
   "version": "3.10.12"
  }
 },
 "nbformat": 4,
 "nbformat_minor": 2
}
